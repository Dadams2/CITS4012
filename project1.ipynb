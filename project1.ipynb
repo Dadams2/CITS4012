{
 "cells": [
  {
   "cell_type": "code",
   "execution_count": 1,
   "id": "ae034d41",
   "metadata": {
    "ExecuteTime": {
     "end_time": "2022-04-28T08:43:49.282814Z",
     "start_time": "2022-04-28T08:43:48.207582Z"
    }
   },
   "outputs": [],
   "source": [
    "import pandas as pd \n",
    "import numpy as np \n",
    "import matplotlib.pyplot as plt\n",
    "import gensim\n",
    "import gensim.downloader as api\n",
    "from gensim.models import TfidfModel\n",
    "from gensim.corpora import Dictionary\n",
    "from nltk.probability import FreqDist\n",
    "from nltk.stem import WordNetLemmatizer, PorterStemmer\n",
    "from nltk import tokenize\n",
    "from spacy.tokens.doc import Doc\n",
    "from spacy.vocab import Vocab\n",
    "import spacy\n",
    "from spacy.language import Language\n",
    "from spacy.matcher import Matcher\n",
    "from spacy import displacy\n",
    "import json"
   ]
  },
  {
   "cell_type": "code",
   "execution_count": 2,
   "id": "28c25b94",
   "metadata": {
    "ExecuteTime": {
     "end_time": "2022-04-28T08:43:49.297560Z",
     "start_time": "2022-04-28T08:43:49.296195Z"
    }
   },
   "outputs": [],
   "source": [
    "#examples for testing\n",
    "default_category = \"Trades & Services\"\n",
    "default_city = \"Sydney\""
   ]
  },
  {
   "cell_type": "code",
   "execution_count": 3,
   "id": "7b272c9b",
   "metadata": {
    "ExecuteTime": {
     "end_time": "2022-04-28T08:43:49.764605Z",
     "start_time": "2022-04-28T08:43:49.308815Z"
    }
   },
   "outputs": [],
   "source": [
    "df = pd.read_csv(\"seek_australia.csv\", encoding='utf8')"
   ]
  },
  {
   "cell_type": "code",
   "execution_count": 4,
   "id": "ca8e4250",
   "metadata": {
    "ExecuteTime": {
     "end_time": "2022-04-28T08:43:49.805808Z",
     "start_time": "2022-04-28T08:43:49.796297Z"
    }
   },
   "outputs": [
    {
     "data": {
      "text/html": [
       "<div>\n",
       "<style scoped>\n",
       "    .dataframe tbody tr th:only-of-type {\n",
       "        vertical-align: middle;\n",
       "    }\n",
       "\n",
       "    .dataframe tbody tr th {\n",
       "        vertical-align: top;\n",
       "    }\n",
       "\n",
       "    .dataframe thead th {\n",
       "        text-align: right;\n",
       "    }\n",
       "</style>\n",
       "<table border=\"1\" class=\"dataframe\">\n",
       "  <thead>\n",
       "    <tr style=\"text-align: right;\">\n",
       "      <th></th>\n",
       "      <th>category</th>\n",
       "      <th>city</th>\n",
       "      <th>company_name</th>\n",
       "      <th>geo</th>\n",
       "      <th>job_board</th>\n",
       "      <th>job_description</th>\n",
       "      <th>job_title</th>\n",
       "      <th>job_type</th>\n",
       "      <th>post_date</th>\n",
       "      <th>salary_offered</th>\n",
       "      <th>state</th>\n",
       "      <th>url</th>\n",
       "    </tr>\n",
       "  </thead>\n",
       "  <tbody>\n",
       "    <tr>\n",
       "      <th>0</th>\n",
       "      <td>Retail &amp; Consumer Products</td>\n",
       "      <td>Sydney</td>\n",
       "      <td>Frontline Executive Retail Sydney</td>\n",
       "      <td>AU</td>\n",
       "      <td>seek</td>\n",
       "      <td>Have you had 10 years experience in fresh pro...</td>\n",
       "      <td>Store Manager - Fresh Produce</td>\n",
       "      <td>Full Time</td>\n",
       "      <td>2018-04-15T23:13:45Z</td>\n",
       "      <td>$100k Base + Super + Benefits</td>\n",
       "      <td>North Shore &amp; Northern Beaches</td>\n",
       "      <td>https://www.seek.com.au/job/35989382</td>\n",
       "    </tr>\n",
       "    <tr>\n",
       "      <th>1</th>\n",
       "      <td>Government &amp; Defence</td>\n",
       "      <td>Brisbane</td>\n",
       "      <td>Powerlink</td>\n",
       "      <td>AU</td>\n",
       "      <td>seek</td>\n",
       "      <td>The Opportunity: The Client Solution Analyst ...</td>\n",
       "      <td>Client Solution Analyst</td>\n",
       "      <td>Full Time</td>\n",
       "      <td>2018-04-15T23:04:40Z</td>\n",
       "      <td>Excellent remuneration packages</td>\n",
       "      <td>Northern Suburbs</td>\n",
       "      <td>https://www.seek.com.au/job/35989272</td>\n",
       "    </tr>\n",
       "    <tr>\n",
       "      <th>2</th>\n",
       "      <td>Trades &amp; Services</td>\n",
       "      <td>Sydney</td>\n",
       "      <td>Richard Jay Laundry</td>\n",
       "      <td>AU</td>\n",
       "      <td>seek</td>\n",
       "      <td>An innovative business development role for a...</td>\n",
       "      <td>Service Technician / Installer - NSW</td>\n",
       "      <td>Full Time</td>\n",
       "      <td>2018-04-15T23:04:31Z</td>\n",
       "      <td>NaN</td>\n",
       "      <td>Parramatta &amp; Western Suburbs</td>\n",
       "      <td>https://www.seek.com.au/job/35989270</td>\n",
       "    </tr>\n",
       "    <tr>\n",
       "      <th>3</th>\n",
       "      <td>Trades &amp; Services</td>\n",
       "      <td>Melbourne</td>\n",
       "      <td>Adaptalift Hyster</td>\n",
       "      <td>AU</td>\n",
       "      <td>seek</td>\n",
       "      <td>About the role: We are seeking an Automotive W...</td>\n",
       "      <td>Workshop Technician I Material Handling Equipment</td>\n",
       "      <td>Full Time</td>\n",
       "      <td>2018-04-16T03:15:17Z</td>\n",
       "      <td>NaN</td>\n",
       "      <td>Bayside &amp; South Eastern Suburbs</td>\n",
       "      <td>https://www.seek.com.au/job/35993203</td>\n",
       "    </tr>\n",
       "    <tr>\n",
       "      <th>4</th>\n",
       "      <td>Trades &amp; Services</td>\n",
       "      <td>Adelaide</td>\n",
       "      <td>Bakers Delight G&amp;M</td>\n",
       "      <td>AU</td>\n",
       "      <td>seek</td>\n",
       "      <td>Â Early starts and weekend shifts. No experie...</td>\n",
       "      <td>APPRENTICESHIP JUNIOR BAKER</td>\n",
       "      <td>Full Time</td>\n",
       "      <td>2018-04-16T01:26:50Z</td>\n",
       "      <td>NaN</td>\n",
       "      <td>NaN</td>\n",
       "      <td>https://www.seek.com.au/job/35991578</td>\n",
       "    </tr>\n",
       "    <tr>\n",
       "      <th>...</th>\n",
       "      <td>...</td>\n",
       "      <td>...</td>\n",
       "      <td>...</td>\n",
       "      <td>...</td>\n",
       "      <td>...</td>\n",
       "      <td>...</td>\n",
       "      <td>...</td>\n",
       "      <td>...</td>\n",
       "      <td>...</td>\n",
       "      <td>...</td>\n",
       "      <td>...</td>\n",
       "      <td>...</td>\n",
       "    </tr>\n",
       "    <tr>\n",
       "      <th>29995</th>\n",
       "      <td>Hospitality &amp; Tourism</td>\n",
       "      <td>Sydney</td>\n",
       "      <td>Radisson Blu Plaza Hotel Sydney</td>\n",
       "      <td>AU</td>\n",
       "      <td>seek</td>\n",
       "      <td>Hotel snapshot The Radisson Blu Plaza Sydney ...</td>\n",
       "      <td>Bar Supervisor</td>\n",
       "      <td>Full Time</td>\n",
       "      <td>2018-04-11T04:20:40Z</td>\n",
       "      <td>Annualised salary, uniform + Super</td>\n",
       "      <td>CBD, Inner West &amp; Eastern Suburbs</td>\n",
       "      <td>https://www.seek.com.au/job/35958503</td>\n",
       "    </tr>\n",
       "    <tr>\n",
       "      <th>29996</th>\n",
       "      <td>CEO &amp; General Management</td>\n",
       "      <td>ACT</td>\n",
       "      <td>Airservices Australia</td>\n",
       "      <td>AU</td>\n",
       "      <td>seek</td>\n",
       "      <td>The Organisation Airservices is a government ...</td>\n",
       "      <td>Deputy Board Secretary</td>\n",
       "      <td>Full Time</td>\n",
       "      <td>2018-04-11T04:00:49Z</td>\n",
       "      <td>Salary package to be negotiated</td>\n",
       "      <td>NaN</td>\n",
       "      <td>https://www.seek.com.au/job/35958100</td>\n",
       "    </tr>\n",
       "    <tr>\n",
       "      <th>29997</th>\n",
       "      <td>Accounting</td>\n",
       "      <td>Melbourne</td>\n",
       "      <td>The Hassett Group</td>\n",
       "      <td>AU</td>\n",
       "      <td>seek</td>\n",
       "      <td>ABOUT THE COMPANY AND ROLE Our client is one o...</td>\n",
       "      <td>Corporate Accountant</td>\n",
       "      <td>Full Time</td>\n",
       "      <td>2018-04-11T02:45:37Z</td>\n",
       "      <td>$110k Package On Offer!</td>\n",
       "      <td>CBD &amp; Inner Suburbs</td>\n",
       "      <td>https://www.seek.com.au/job/35956991</td>\n",
       "    </tr>\n",
       "    <tr>\n",
       "      <th>29998</th>\n",
       "      <td>Government &amp; Defence</td>\n",
       "      <td>ACT</td>\n",
       "      <td>SOS Recruitment</td>\n",
       "      <td>AU</td>\n",
       "      <td>seek</td>\n",
       "      <td>Long term contract for 12 months with possibl...</td>\n",
       "      <td>APS 6 &amp; EL1 Account Managers</td>\n",
       "      <td>Contract/Temp</td>\n",
       "      <td>2018-04-11T04:55:16Z</td>\n",
       "      <td>NaN</td>\n",
       "      <td>NaN</td>\n",
       "      <td>https://www.seek.com.au/job/35959184</td>\n",
       "    </tr>\n",
       "    <tr>\n",
       "      <th>29999</th>\n",
       "      <td>Government &amp; Defence</td>\n",
       "      <td>Dubbo &amp; Central NSW</td>\n",
       "      <td>ServiceNSW</td>\n",
       "      <td>AU</td>\n",
       "      <td>seek</td>\n",
       "      <td>Customer Service Representative - (West Wyalo...</td>\n",
       "      <td>Customer Service Representative - (West Wyalon...</td>\n",
       "      <td>Part Time</td>\n",
       "      <td>2018-04-11T05:43:35Z</td>\n",
       "      <td>NaN</td>\n",
       "      <td>NaN</td>\n",
       "      <td>https://www.seek.com.au/job/35960045</td>\n",
       "    </tr>\n",
       "  </tbody>\n",
       "</table>\n",
       "<p>30000 rows × 12 columns</p>\n",
       "</div>"
      ],
      "text/plain": [
       "                         category                 city  \\\n",
       "0      Retail & Consumer Products               Sydney   \n",
       "1            Government & Defence             Brisbane   \n",
       "2               Trades & Services               Sydney   \n",
       "3               Trades & Services            Melbourne   \n",
       "4               Trades & Services             Adelaide   \n",
       "...                           ...                  ...   \n",
       "29995       Hospitality & Tourism               Sydney   \n",
       "29996    CEO & General Management                  ACT   \n",
       "29997                  Accounting            Melbourne   \n",
       "29998        Government & Defence                  ACT   \n",
       "29999        Government & Defence  Dubbo & Central NSW   \n",
       "\n",
       "                            company_name geo job_board  \\\n",
       "0      Frontline Executive Retail Sydney  AU      seek   \n",
       "1                              Powerlink  AU      seek   \n",
       "2                    Richard Jay Laundry  AU      seek   \n",
       "3                      Adaptalift Hyster  AU      seek   \n",
       "4                     Bakers Delight G&M  AU      seek   \n",
       "...                                  ...  ..       ...   \n",
       "29995    Radisson Blu Plaza Hotel Sydney  AU      seek   \n",
       "29996              Airservices Australia  AU      seek   \n",
       "29997                  The Hassett Group  AU      seek   \n",
       "29998                    SOS Recruitment  AU      seek   \n",
       "29999                         ServiceNSW  AU      seek   \n",
       "\n",
       "                                         job_description  \\\n",
       "0       Have you had 10 years experience in fresh pro...   \n",
       "1       The Opportunity: The Client Solution Analyst ...   \n",
       "2       An innovative business development role for a...   \n",
       "3      About the role: We are seeking an Automotive W...   \n",
       "4       Â Early starts and weekend shifts. No experie...   \n",
       "...                                                  ...   \n",
       "29995   Hotel snapshot The Radisson Blu Plaza Sydney ...   \n",
       "29996   The Organisation Airservices is a government ...   \n",
       "29997  ABOUT THE COMPANY AND ROLE Our client is one o...   \n",
       "29998   Long term contract for 12 months with possibl...   \n",
       "29999   Customer Service Representative - (West Wyalo...   \n",
       "\n",
       "                                               job_title       job_type  \\\n",
       "0                          Store Manager - Fresh Produce      Full Time   \n",
       "1                                Client Solution Analyst      Full Time   \n",
       "2                   Service Technician / Installer - NSW      Full Time   \n",
       "3      Workshop Technician I Material Handling Equipment      Full Time   \n",
       "4                            APPRENTICESHIP JUNIOR BAKER      Full Time   \n",
       "...                                                  ...            ...   \n",
       "29995                                     Bar Supervisor      Full Time   \n",
       "29996                             Deputy Board Secretary      Full Time   \n",
       "29997                               Corporate Accountant      Full Time   \n",
       "29998                       APS 6 & EL1 Account Managers  Contract/Temp   \n",
       "29999  Customer Service Representative - (West Wyalon...      Part Time   \n",
       "\n",
       "                  post_date                      salary_offered  \\\n",
       "0      2018-04-15T23:13:45Z       $100k Base + Super + Benefits   \n",
       "1      2018-04-15T23:04:40Z     Excellent remuneration packages   \n",
       "2      2018-04-15T23:04:31Z                                 NaN   \n",
       "3      2018-04-16T03:15:17Z                                 NaN   \n",
       "4      2018-04-16T01:26:50Z                                 NaN   \n",
       "...                     ...                                 ...   \n",
       "29995  2018-04-11T04:20:40Z  Annualised salary, uniform + Super   \n",
       "29996  2018-04-11T04:00:49Z     Salary package to be negotiated   \n",
       "29997  2018-04-11T02:45:37Z             $110k Package On Offer!   \n",
       "29998  2018-04-11T04:55:16Z                                 NaN   \n",
       "29999  2018-04-11T05:43:35Z                                 NaN   \n",
       "\n",
       "                                   state                                   url  \n",
       "0         North Shore & Northern Beaches  https://www.seek.com.au/job/35989382  \n",
       "1                       Northern Suburbs  https://www.seek.com.au/job/35989272  \n",
       "2           Parramatta & Western Suburbs  https://www.seek.com.au/job/35989270  \n",
       "3        Bayside & South Eastern Suburbs  https://www.seek.com.au/job/35993203  \n",
       "4                                    NaN  https://www.seek.com.au/job/35991578  \n",
       "...                                  ...                                   ...  \n",
       "29995  CBD, Inner West & Eastern Suburbs  https://www.seek.com.au/job/35958503  \n",
       "29996                                NaN  https://www.seek.com.au/job/35958100  \n",
       "29997                CBD & Inner Suburbs  https://www.seek.com.au/job/35956991  \n",
       "29998                                NaN  https://www.seek.com.au/job/35959184  \n",
       "29999                                NaN  https://www.seek.com.au/job/35960045  \n",
       "\n",
       "[30000 rows x 12 columns]"
      ]
     },
     "execution_count": 4,
     "metadata": {},
     "output_type": "execute_result"
    }
   ],
   "source": [
    "df"
   ]
  },
  {
   "cell_type": "code",
   "execution_count": 7,
   "id": "129edd4f",
   "metadata": {
    "ExecuteTime": {
     "end_time": "2022-04-28T08:44:28.728958Z",
     "start_time": "2022-04-28T08:44:28.726812Z"
    }
   },
   "outputs": [
    {
     "data": {
      "text/plain": [
       "' Have you had 10 years experience in fresh produce that wants to manage their own store for a family owned Australian company that is passionate about food. We are looking for: Must have 10+ years in the fresh food business and have the passion for the role. Current 2IC looking to progress with training into Store manager role. Excellent customer service and communication skills Be hands on and have a can do attitude Be into the fresh food business and have the passion for the role Hardworking, ambitious and competitive people who are passionate about good food. Are able to maximise the financial return in their market, ensuring it meets sales, margin and wages budgets. Have exceptional merchandising capabilities and customer service skills helping us to create unique shopping experiences for our customers. Have a wealth of knowledge of fresh food retailing and a willingness to share this knowledge. Can lead, manage and motivate a teams. Must be able to work weekend and use to early starts which is what fresh produce is all about Whats in it for you: Good salary package $100 K + super + benefits Fun and challenging work environment Great career opportunities Exceptional products and brand reputation Amazing teams Strong expanding business If this is you apply now, interviewing now To apply online, please click on the apply button. Alternatively, for a confidential discussion, please contact Sebastian Waddell on , quoting Ref No. 147061 or otherwise please check out our website for other available positions. www.frontlineretail.com.au '"
      ]
     },
     "execution_count": 7,
     "metadata": {},
     "output_type": "execute_result"
    }
   ],
   "source": [
    "df[\"job_description\"][0]"
   ]
  },
  {
   "cell_type": "markdown",
   "id": "81c30d1c",
   "metadata": {},
   "source": [
    "# Data Exploration"
   ]
  },
  {
   "cell_type": "code",
   "execution_count": 5,
   "id": "71ef61ae",
   "metadata": {
    "ExecuteTime": {
     "end_time": "2022-04-27T13:26:05.491865Z",
     "start_time": "2022-04-27T13:26:05.486322Z"
    }
   },
   "outputs": [
    {
     "data": {
      "text/plain": [
       "array(['Retail & Consumer Products', 'Government & Defence',\n",
       "       'Trades & Services', 'Manufacturing, Transport & Logistics',\n",
       "       'Sales', 'Community Services & Development',\n",
       "       'Healthcare & Medical', 'Information & Communication Technology',\n",
       "       'Mining, Resources & Energy', 'Construction',\n",
       "       'Design & Architecture', 'Call Centre & Customer Service',\n",
       "       'Marketing & Communications', 'Administration & Office Support',\n",
       "       'Banking & Financial Services', 'Engineering',\n",
       "       'Education & Training', 'Accounting',\n",
       "       'Human Resources & Recruitment', 'Real Estate & Property',\n",
       "       'Sport & Recreation', 'Legal', 'Hospitality & Tourism',\n",
       "       'Consulting & Strategy', 'Farming, Animals & Conservation',\n",
       "       'Advertising, Arts & Media', 'Insurance & Superannuation',\n",
       "       'Self Employment', 'CEO & General Management',\n",
       "       'Science & Technology'], dtype=object)"
      ]
     },
     "execution_count": 5,
     "metadata": {},
     "output_type": "execute_result"
    }
   ],
   "source": [
    "df[\"category\"].unique()"
   ]
  },
  {
   "cell_type": "code",
   "execution_count": 6,
   "id": "ceef6e91",
   "metadata": {
    "ExecuteTime": {
     "end_time": "2022-04-27T13:26:05.710403Z",
     "start_time": "2022-04-27T13:26:05.536191Z"
    }
   },
   "outputs": [
    {
     "data": {
      "text/html": [
       "<div>\n",
       "<style scoped>\n",
       "    .dataframe tbody tr th:only-of-type {\n",
       "        vertical-align: middle;\n",
       "    }\n",
       "\n",
       "    .dataframe tbody tr th {\n",
       "        vertical-align: top;\n",
       "    }\n",
       "\n",
       "    .dataframe thead th {\n",
       "        text-align: right;\n",
       "    }\n",
       "</style>\n",
       "<table border=\"1\" class=\"dataframe\">\n",
       "  <thead>\n",
       "    <tr style=\"text-align: right;\">\n",
       "      <th></th>\n",
       "      <th>category</th>\n",
       "      <th>city</th>\n",
       "      <th>company_name</th>\n",
       "      <th>geo</th>\n",
       "      <th>job_board</th>\n",
       "      <th>job_description</th>\n",
       "      <th>job_title</th>\n",
       "      <th>job_type</th>\n",
       "      <th>post_date</th>\n",
       "      <th>salary_offered</th>\n",
       "      <th>state</th>\n",
       "      <th>url</th>\n",
       "    </tr>\n",
       "  </thead>\n",
       "  <tbody>\n",
       "    <tr>\n",
       "      <th>count</th>\n",
       "      <td>30000</td>\n",
       "      <td>30000</td>\n",
       "      <td>30000</td>\n",
       "      <td>30000</td>\n",
       "      <td>30000</td>\n",
       "      <td>29655</td>\n",
       "      <td>30000</td>\n",
       "      <td>30000</td>\n",
       "      <td>30000</td>\n",
       "      <td>8952</td>\n",
       "      <td>19180</td>\n",
       "      <td>30000</td>\n",
       "    </tr>\n",
       "    <tr>\n",
       "      <th>unique</th>\n",
       "      <td>30</td>\n",
       "      <td>65</td>\n",
       "      <td>9054</td>\n",
       "      <td>1</td>\n",
       "      <td>1</td>\n",
       "      <td>26850</td>\n",
       "      <td>20979</td>\n",
       "      <td>4</td>\n",
       "      <td>24747</td>\n",
       "      <td>5373</td>\n",
       "      <td>19</td>\n",
       "      <td>30000</td>\n",
       "    </tr>\n",
       "    <tr>\n",
       "      <th>top</th>\n",
       "      <td>Trades &amp; Services</td>\n",
       "      <td>Sydney</td>\n",
       "      <td>Private Advertiser</td>\n",
       "      <td>AU</td>\n",
       "      <td>seek</td>\n",
       "      <td>Today we have around 250 people who work to h...</td>\n",
       "      <td>Business Development Manager</td>\n",
       "      <td>Full Time</td>\n",
       "      <td>2018-04-16T09:29:00Z</td>\n",
       "      <td>$100,502 - $114,624</td>\n",
       "      <td>CBD &amp; Inner Suburbs</td>\n",
       "      <td>https://www.seek.com.au/job/35874202</td>\n",
       "    </tr>\n",
       "    <tr>\n",
       "      <th>freq</th>\n",
       "      <td>3346</td>\n",
       "      <td>9412</td>\n",
       "      <td>1491</td>\n",
       "      <td>30000</td>\n",
       "      <td>30000</td>\n",
       "      <td>101</td>\n",
       "      <td>122</td>\n",
       "      <td>20203</td>\n",
       "      <td>14</td>\n",
       "      <td>130</td>\n",
       "      <td>4690</td>\n",
       "      <td>1</td>\n",
       "    </tr>\n",
       "  </tbody>\n",
       "</table>\n",
       "</div>"
      ],
      "text/plain": [
       "                 category    city        company_name    geo job_board  \\\n",
       "count               30000   30000               30000  30000     30000   \n",
       "unique                 30      65                9054      1         1   \n",
       "top     Trades & Services  Sydney  Private Advertiser     AU      seek   \n",
       "freq                 3346    9412                1491  30000     30000   \n",
       "\n",
       "                                          job_description  \\\n",
       "count                                               29655   \n",
       "unique                                              26850   \n",
       "top      Today we have around 250 people who work to h...   \n",
       "freq                                                  101   \n",
       "\n",
       "                           job_title   job_type             post_date  \\\n",
       "count                          30000      30000                 30000   \n",
       "unique                         20979          4                 24747   \n",
       "top     Business Development Manager  Full Time  2018-04-16T09:29:00Z   \n",
       "freq                             122      20203                    14   \n",
       "\n",
       "             salary_offered                state  \\\n",
       "count                  8952                19180   \n",
       "unique                 5373                   19   \n",
       "top     $100,502 - $114,624  CBD & Inner Suburbs   \n",
       "freq                    130                 4690   \n",
       "\n",
       "                                         url  \n",
       "count                                  30000  \n",
       "unique                                 30000  \n",
       "top     https://www.seek.com.au/job/35874202  \n",
       "freq                                       1  "
      ]
     },
     "execution_count": 6,
     "metadata": {},
     "output_type": "execute_result"
    }
   ],
   "source": [
    "df.describe()"
   ]
  },
  {
   "cell_type": "code",
   "execution_count": 188,
   "id": "4885ec86",
   "metadata": {
    "ExecuteTime": {
     "end_time": "2022-04-28T03:01:21.534266Z",
     "start_time": "2022-04-28T03:01:21.528833Z"
    }
   },
   "outputs": [],
   "source": [
    "def category_frequency(city=default_city):\n",
    "    \"\"\"returns a dictionary of the form category: count for a given city\"\"\"\n",
    "    return dict(df[df[\"city\"] == city][\"category\"].value_counts())\n",
    "\n",
    "def visualise_categories(data, city):\n",
    "    \"\"\"Plots the frequecy of categories for a given city\"\"\"\n",
    "    names = list(data.keys())\n",
    "    values = list(data.values())\n",
    "    plt.figure(figsize=(12,10))\n",
    "    plt.bar(range(len(data)), values, tick_label=names)\n",
    "    plt.ylabel(\"Count\")\n",
    "    plt.title(f\"Categories for {city}\")\n",
    "    plt.xticks(rotation=90)\n",
    "    plt.show()\n",
    "    \n",
    "def unique_categories(city=default_city):\n",
    "    \"\"\"prints the number of unique categories for a given city\"\"\"\n",
    "    print(f\"Number of unique categories for {city}: {len(category_frequency(city=city))}\")"
   ]
  },
  {
   "cell_type": "code",
   "execution_count": 187,
   "id": "54cf03c0",
   "metadata": {
    "ExecuteTime": {
     "end_time": "2022-04-28T03:00:55.367271Z",
     "start_time": "2022-04-28T03:00:55.152833Z"
    }
   },
   "outputs": [
    {
     "name": "stdout",
     "output_type": "stream",
     "text": [
      "Number of unique categories for Sydney: 30\n",
      "Number of unique categories for Brisbane: 30\n",
      "Number of unique categories for Melbourne: 30\n",
      "Number of unique categories for Adelaide: 29\n",
      "Number of unique categories for Northam & Wheatbelt: 13\n",
      "Number of unique categories for Port Hedland, Karratha & Pilbara: 19\n",
      "Number of unique categories for Gosford & Central Coast: 23\n",
      "Number of unique categories for Newcastle, Maitland & Hunter: 28\n",
      "Number of unique categories for Gold Coast: 26\n",
      "Number of unique categories for Rockhampton & Capricorn Coast: 17\n",
      "Number of unique categories for Wollongong, Illawarra & South Coast: 25\n",
      "Number of unique categories for Blue Mountains & Central West: 22\n",
      "Number of unique categories for Kalgoorlie, Goldfields & Esperance: 17\n",
      "Number of unique categories for Dubbo & Central NSW: 17\n",
      "Number of unique categories for Cairns & Far North: 25\n",
      "Number of unique categories for Perth: 30\n",
      "Number of unique categories for Bunbury & South West: 19\n",
      "Number of unique categories for Hobart: 27\n",
      "Number of unique categories for ACT: 30\n",
      "Number of unique categories for Geelong & Great Ocean Road: 25\n",
      "Number of unique categories for Sunshine Coast: 26\n",
      "Number of unique categories for Tamworth & North West NSW: 20\n",
      "Number of unique categories for Mt Isa & Western QLD: 18\n",
      "Number of unique categories for Goulburn & Southern Tablelands: 20\n",
      "Number of unique categories for Mornington Peninsula & Bass Coast: 19\n",
      "Number of unique categories for Fleurieu Peninsula & Kangaroo Island: 5\n",
      "Number of unique categories for Port Macquarie & Mid North Coast: 19\n",
      "Number of unique categories for Darwin: 24\n",
      "Number of unique categories for Coffs Harbour & North Coast: 17\n",
      "Number of unique categories for Gladstone & Central QLD: 17\n",
      "Number of unique categories for Mackay & Coalfields: 21\n",
      "Number of unique categories for Geraldton, Gascoyne & Midwest: 11\n",
      "Number of unique categories for Ballarat & Central Highlands: 25\n",
      "Number of unique categories for Wagga Wagga & Riverina: 20\n",
      "Number of unique categories for Townsville & Northern QLD: 28\n",
      "Number of unique categories for Bendigo, Goldfields & Macedon Ranges: 21\n",
      "Number of unique categories for Albany & Great Southern: 9\n",
      "Number of unique categories for Shepparton & Goulburn Valley: 21\n",
      "Number of unique categories for Toowoomba & Darling Downs: 20\n",
      "Number of unique categories for Bundaberg & Wide Bay Burnett: 17\n",
      "Number of unique categories for Katherine & Northern Australia: 13\n",
      "Number of unique categories for Albury Wodonga & Murray: 18\n",
      "Number of unique categories for Adelaide Hills & Barossa: 15\n",
      "Number of unique categories for Lismore & Far North Coast: 21\n",
      "Number of unique categories for Traralgon & La Trobe Valley: 14\n",
      "Number of unique categories for Whyalla & Eyre Peninsula: 14\n",
      "Number of unique categories for Devonport & North West: 15\n",
      "Number of unique categories for Mildura & Murray: 15\n",
      "Number of unique categories for Yorke Peninsula & Clare Valley: 14\n",
      "Number of unique categories for Mandurah & Peel: 10\n",
      "Number of unique categories for Yarra Valley & High Country: 15\n",
      "Number of unique categories for Alice Springs & Central Australia: 15\n",
      "Number of unique categories for Richmond & Hawkesbury: 9\n",
      "Number of unique categories for Mt Gambier & Limestone Coast: 12\n",
      "Number of unique categories for Launceston & North East: 15\n",
      "Number of unique categories for Bairnsdale & Gippsland: 18\n",
      "Number of unique categories for Horsham & Grampians: 12\n",
      "Number of unique categories for Tumut, Southern Highlands & Snowy: 8\n",
      "Number of unique categories for Hervey Bay & Fraser Coast: 15\n",
      "Number of unique categories for Broome & Kimberley: 12\n",
      "Number of unique categories for Riverland & Murray Mallee: 11\n",
      "Number of unique categories for Coober Pedy & Outback SA: 6\n",
      "Number of unique categories for Far West & North Central NSW: 9\n",
      "Number of unique categories for Somerset & Lockyer: 6\n",
      "Number of unique categories for Central & South East: 4\n"
     ]
    }
   ],
   "source": [
    "for city in df[\"city\"].unique():\n",
    "    unique_categories(city)"
   ]
  },
  {
   "cell_type": "code",
   "execution_count": 8,
   "id": "2c476533",
   "metadata": {
    "ExecuteTime": {
     "end_time": "2022-04-27T13:26:06.249537Z",
     "start_time": "2022-04-27T13:26:05.810442Z"
    }
   },
   "outputs": [
    {
     "data": {
      "image/png": "[encoded data removed]",
      "text/plain": [
       "<Figure size 864x720 with 1 Axes>"
      ]
     },
     "metadata": {
      "needs_background": "light"
     },
     "output_type": "display_data"
    }
   ],
   "source": [
    "visualise_categories(unique_categories(city=\"Sydney\"), \"Sydney\")"
   ]
  },
  {
   "cell_type": "code",
   "execution_count": 9,
   "id": "ff231065",
   "metadata": {
    "ExecuteTime": {
     "end_time": "2022-04-27T13:26:06.297403Z",
     "start_time": "2022-04-27T13:26:06.294811Z"
    }
   },
   "outputs": [],
   "source": [
    "def sanitize(data):\n",
    "    \"\"\"\n",
    "    removes the Â and \\xa0 characters that can sometimes be present in unicode input\n",
    "    \"\"\"\n",
    "    return data.apply(lambda x: str(x).encode(\"ascii\", \"ignore\").decode())"
   ]
  },
  {
   "cell_type": "code",
   "execution_count": 10,
   "id": "a39aed81",
   "metadata": {
    "ExecuteTime": {
     "end_time": "2022-04-27T13:26:06.346292Z",
     "start_time": "2022-04-27T13:26:06.341235Z"
    }
   },
   "outputs": [],
   "source": [
    "def category_data(category=default_category, concat=False):\n",
    "    \"\"\"\n",
    "    returns call the relevant job descriptions for a given category\n",
    "        Parameters:\n",
    "            category (str): category to get descriptions for\n",
    "            concat (bool): whether to concatenate all job descriptions into a single string\n",
    "        returns:\n",
    "            Either list of job descriptions or a single string \n",
    "            of all job descriptions\n",
    "    \"\"\"\n",
    "    descriptions = df[df[\"category\"]==category][\"job_description\"]\n",
    "    space_sanitized = sanitize(descriptions)\n",
    "    if concat:\n",
    "        return space_sanitized.str.cat(sep=' ')\n",
    "    else:\n",
    "        return space_sanitized\n",
    "\n",
    "def genism_tokenise(data):\n",
    "    \"\"\"\n",
    "    tokenise input job descriptions with simple gensim preprocessor\n",
    "    \n",
    "    Parameters:\n",
    "        data (List[Str]): input job description list\n",
    "    Returns:\n",
    "        a list of tokenised job descriptions \n",
    "    \"\"\"\n",
    "    return gensim.utils.simple_preprocess(data, deacc=True)\n",
    "    \n",
    "def category_vocab(category):\n",
    "    \"returns the vocabulary for a given category\"\n",
    "    return len(freqdist(category=category))\n",
    "\n",
    "def freqdist(category=default_category, docs=None, tokenise=True):\n",
    "    \"\"\"\n",
    "    Get the frequency distribution of words for job descriptions in a category\n",
    "    \n",
    "    Parameters:\n",
    "        category (str): category to get frequency distribution for\n",
    "        docs (List[str]): optional list of docs to get frequency distribution for\n",
    "        tokenise (boolean): option to tokenise documents. \n",
    "        \n",
    "    If documents are alredy tokenised category does not need to be provided\n",
    "    and tokenise can be set to false\n",
    "    \"\"\"\n",
    "    # if no docs provided extract them\n",
    "    if docs is None:\n",
    "        docs = category_data(category, concat=True)\n",
    "    if tokenise:\n",
    "        docs = genism_tokenise(docs)\n",
    "\n",
    "    return FreqDist(docs)\n"
   ]
  },
  {
   "cell_type": "code",
   "execution_count": 11,
   "id": "fbdcd111",
   "metadata": {
    "ExecuteTime": {
     "end_time": "2022-04-27T13:26:06.393670Z",
     "start_time": "2022-04-27T13:26:06.391100Z"
    }
   },
   "outputs": [],
   "source": [
    "def all_category_vocab(df):\n",
    "    \"prints the vocabular for each categories job descriptions\"\n",
    "    for cat in df[\"category\"].unique():\n",
    "        print(f\"{cat}: {category_vocab(cat)}\")    "
   ]
  },
  {
   "cell_type": "code",
   "execution_count": 12,
   "id": "70b63910",
   "metadata": {
    "ExecuteTime": {
     "end_time": "2022-04-27T13:26:38.026754Z",
     "start_time": "2022-04-27T13:26:06.437687Z"
    }
   },
   "outputs": [
    {
     "name": "stdout",
     "output_type": "stream",
     "text": [
      "Retail & Consumer Products: 9021\n",
      "Government & Defence: 10566\n",
      "Trades & Services: 17162\n",
      "Manufacturing, Transport & Logistics: 13585\n",
      "Sales: 12449\n",
      "Community Services & Development: 8576\n",
      "Healthcare & Medical: 14927\n",
      "Information & Communication Technology: 16512\n",
      "Mining, Resources & Energy: 8407\n",
      "Construction: 9953\n",
      "Design & Architecture: 5216\n",
      "Call Centre & Customer Service: 8015\n",
      "Marketing & Communications: 9130\n",
      "Administration & Office Support: 12940\n",
      "Banking & Financial Services: 7503\n",
      "Engineering: 9436\n",
      "Education & Training: 11769\n",
      "Accounting: 10726\n",
      "Human Resources & Recruitment: 8113\n",
      "Real Estate & Property: 6596\n",
      "Sport & Recreation: 3706\n",
      "Legal: 6439\n",
      "Hospitality & Tourism: 11063\n",
      "Consulting & Strategy: 4547\n",
      "Farming, Animals & Conservation: 3699\n",
      "Advertising, Arts & Media: 4573\n",
      "Insurance & Superannuation: 4106\n",
      "Self Employment: 913\n",
      "CEO & General Management: 3550\n",
      "Science & Technology: 4887\n"
     ]
    }
   ],
   "source": [
    "all_category_vocab(df)"
   ]
  },
  {
   "cell_type": "code",
   "execution_count": 13,
   "id": "2ba5271d",
   "metadata": {
    "ExecuteTime": {
     "end_time": "2022-04-27T13:26:38.078613Z",
     "start_time": "2022-04-27T13:26:38.076155Z"
    }
   },
   "outputs": [],
   "source": [
    "def visualise_category_vocab(category):\n",
    "    \"plots the cumulative frequency of words in a categories job descriptions\"\n",
    "    freqdist(category=category).plot(50, cumulative=True)"
   ]
  },
  {
   "cell_type": "code",
   "execution_count": 14,
   "id": "425cb605",
   "metadata": {
    "ExecuteTime": {
     "end_time": "2022-04-27T13:26:40.212297Z",
     "start_time": "2022-04-27T13:26:38.126527Z"
    }
   },
   "outputs": [
    {
     "data": {
      "image/png": "[encoded data removed]",
      "text/plain": [
       "<Figure size 432x288 with 1 Axes>"
      ]
     },
     "metadata": {
      "needs_background": "light"
     },
     "output_type": "display_data"
    }
   ],
   "source": [
    "visualise_category_vocab(\"Sales\")"
   ]
  },
  {
   "cell_type": "markdown",
   "id": "6c23d64c",
   "metadata": {},
   "source": [
    "# Data Preprocessing"
   ]
  },
  {
   "cell_type": "markdown",
   "id": "7234cb43",
   "metadata": {},
   "source": [
    "## Tokenise"
   ]
  },
  {
   "cell_type": "code",
   "execution_count": 189,
   "id": "6663df74",
   "metadata": {
    "ExecuteTime": {
     "end_time": "2022-04-28T03:14:57.902470Z",
     "start_time": "2022-04-28T03:14:57.362560Z"
    }
   },
   "outputs": [],
   "source": [
    "# load model that has NER and POS. web_lg not needed as there is no need to use word vectors\n",
    "nlp = spacy.load('en_core_web_sm')"
   ]
  },
  {
   "cell_type": "code",
   "execution_count": 16,
   "id": "4e76332b",
   "metadata": {
    "ExecuteTime": {
     "end_time": "2022-04-27T13:26:40.848905Z",
     "start_time": "2022-04-27T13:26:40.842924Z"
    }
   },
   "outputs": [],
   "source": [
    "def make_docs(category=default_category):\n",
    "    \"\"\"\n",
    "    for a given category extract the job descriptions and return a list of \n",
    "    documents that have *only* been run through the spacy tokeniser\n",
    "    \"\"\"\n",
    "    data = category_data(category=category)\n",
    "    docs = [nlp.make_doc(description) for description in data]\n",
    "    return docs\n",
    "    \n",
    "def get_tokenised(document):\n",
    "    \"\"\"returns a list of words for a given spacy tokensied document\"\"\"\n",
    "    return [token.text for token in document]\n",
    "\n",
    "def get_tokenised_docs(documents):\n",
    "    \"\"\"\n",
    "    retunrs a list of token lists for a given collection \n",
    "    of spacy tokenised documents\n",
    "    \"\"\"\n",
    "    return [get_tokenised(doc) for doc in documents]\n",
    "\n",
    "def combine_docs(tokenised_docs):\n",
    "    \"\"\"\n",
    "    returns a single list of tokens for a given list\n",
    "    of raw tokensied documents\n",
    "    \"\"\"\n",
    "    combined = []\n",
    "    for doc in tokenised_docs:\n",
    "        combined.extend(doc)\n",
    "    return combined\n",
    "\n",
    "def vocab(docs):\n",
    "    \"\"\"returns the vocabluary for a given list of raw job descriptions\"\"\"\n",
    "    return len(FreqDist(combine_docs(get_tokenised_docs(docs))))\n",
    "\n",
    "def tokenised_vocab(tokenised_docs):\n",
    "    \"\"\"returns the vocabulary for a list of already tokensied documents\"\"\"\n",
    "    return len(FreqDist(combine_docs(tokenised_docs)))"
   ]
  },
  {
   "cell_type": "code",
   "execution_count": 17,
   "id": "8c6a699f",
   "metadata": {
    "ExecuteTime": {
     "end_time": "2022-04-27T13:26:43.565323Z",
     "start_time": "2022-04-27T13:26:40.895937Z"
    }
   },
   "outputs": [],
   "source": [
    "docs = make_docs(category=\"Sales\")"
   ]
  },
  {
   "cell_type": "code",
   "execution_count": 18,
   "id": "b8740c61",
   "metadata": {
    "ExecuteTime": {
     "end_time": "2022-04-27T13:26:45.072000Z",
     "start_time": "2022-04-27T13:26:44.523008Z"
    }
   },
   "outputs": [
    {
     "data": {
      "text/plain": [
       "18446"
      ]
     },
     "execution_count": 18,
     "metadata": {},
     "output_type": "execute_result"
    }
   ],
   "source": [
    "vocab(docs)"
   ]
  },
  {
   "cell_type": "markdown",
   "id": "39aad399",
   "metadata": {},
   "source": [
    "## Lemmatise vs Stemming"
   ]
  },
  {
   "cell_type": "code",
   "execution_count": 19,
   "id": "87adb414",
   "metadata": {
    "ExecuteTime": {
     "end_time": "2022-04-27T13:26:45.975637Z",
     "start_time": "2022-04-27T13:26:45.972933Z"
    }
   },
   "outputs": [],
   "source": [
    "lemmatizer = WordNetLemmatizer()\n",
    "stemmer = PorterStemmer()"
   ]
  },
  {
   "cell_type": "code",
   "execution_count": 20,
   "id": "1d60db13",
   "metadata": {
    "ExecuteTime": {
     "end_time": "2022-04-27T13:26:46.874560Z",
     "start_time": "2022-04-27T13:26:46.868821Z"
    }
   },
   "outputs": [],
   "source": [
    "def morph(words, morphology=\"lemmatize\"):\n",
    "    \"\"\"\n",
    "    Apply a morphological operation to an input list of tokens\n",
    "    \n",
    "    Parameters:\n",
    "        words (List[str]): input words list\n",
    "        morphology (str): operation to apply to words\n",
    "    \n",
    "    Returns:\n",
    "        list of words with morphological operation applied if applicable\n",
    "    \"\"\"\n",
    "    if(morphology == \"lemmatize\"):\n",
    "        return [lemmatizer.lemmatize(word) for word in words]\n",
    "    elif(morphology == \"stem\"):\n",
    "        return [stemmer.stem(word) for word in words]\n",
    "    else:\n",
    "        return words\n",
    "    \n",
    "def normalise(docs, morphology=\"lemmatize\"):\n",
    "    \"\"\"\n",
    "    applys a morphological operation to all the words in a document for \n",
    "    all documents in a given collection\n",
    "    \"\"\"\n",
    "    return [morph(doc, morphology=morphology) for doc in docs]\n",
    "\n",
    "def spacy_lemmatise(spacy_docs):\n",
    "    \"\"\"\n",
    "    returns a list of documents where each document \n",
    "    is a list of spacy lemmatised tokens for the \n",
    "    corresponding input document\n",
    "    \"\"\"\n",
    "    return [spacy_lem_doc(doc) for doc in spacy_docs]\n",
    "\n",
    "def spacy_lem_doc(spacy_doc):\n",
    "    \"\"\"returns a list of the lemmatised tokens for a spacy doc\"\"\"\n",
    "    return [token.lemma_ for token in spacy_doc]"
   ]
  },
  {
   "cell_type": "code",
   "execution_count": 190,
   "id": "65716d79",
   "metadata": {
    "ExecuteTime": {
     "end_time": "2022-04-28T03:27:09.385259Z",
     "start_time": "2022-04-28T03:27:09.380301Z"
    }
   },
   "outputs": [],
   "source": [
    "def compare_lematise_stemming(category=default_category):\n",
    "    \"\"\"\n",
    "    prints the vocabulary of words in the collection of job descriptions \n",
    "    for a given category under different mophological processors. \n",
    "    \n",
    "    List of processors:\n",
    "    - NLTK WordNetLemmatiser\n",
    "    - NLTK Porter Stemmer\n",
    "    - Spacy 'en_core_web_sm' Lemmatiser pipeline\n",
    "    \n",
    "    *Warning*: This is a slow function\n",
    "    \"\"\"\n",
    "    docs = make_docs(category=category)\n",
    "    token_docs = get_tokenised_docs(docs)\n",
    "    spacy_docs = list(nlp.pipe(docs))\n",
    "    original = normalise(token_docs, morphology=\"none\")\n",
    "    lem = normalise(token_docs, morphology=\"lemmatize\")\n",
    "    stem = normalise(token_docs, morphology=\"stem\")\n",
    "    spacy_lemmatised_docs = spacy_lemmatise(spacy_docs)\n",
    "    print(f\"Vocabulary of original documents: {tokenised_vocab(original)}\")\n",
    "    print(f\"Vocabulary with NLTK lemmatisation: {tokenised_vocab(lem)}\")\n",
    "    print(f\"Vocabulary with NLTK Porter stemming: {tokenised_vocab(stem)}\")\n",
    "    print(f\"Vocabulary with Spacy lemmatisation: {tokenised_vocab(spacy_lemmatised_docs)}\")"
   ]
  },
  {
   "cell_type": "code",
   "execution_count": 191,
   "id": "655b1fe7",
   "metadata": {
    "ExecuteTime": {
     "end_time": "2022-04-28T03:30:35.330708Z",
     "start_time": "2022-04-28T03:28:33.004051Z"
    }
   },
   "outputs": [
    {
     "name": "stdout",
     "output_type": "stream",
     "text": [
      "Vocabulary of original documents: 18446\n",
      "Vocabulary with NLTK lemmatisation: 17264\n",
      "Vocabulary with NLTK Porter stemming: 10965\n",
      "Vocabulary with Spacy lemmatisation: 15469\n"
     ]
    }
   ],
   "source": [
    "compare_lematise_stemming(\"Sales\")"
   ]
  },
  {
   "cell_type": "markdown",
   "id": "637c133b",
   "metadata": {},
   "source": [
    "## Retokenisze  "
   ]
  },
  {
   "cell_type": "code",
   "execution_count": 233,
   "id": "039d2853",
   "metadata": {
    "ExecuteTime": {
     "end_time": "2022-04-28T07:08:04.229029Z",
     "start_time": "2022-04-28T07:08:04.225086Z"
    }
   },
   "outputs": [],
   "source": [
    "def get_noun_chunks_freqdist(spacy_docs):\n",
    "    \"\"\"\n",
    "    returns a frequency distribution for all the noun\n",
    "    chunks across a collection of spacy processed input documents\n",
    "    \"\"\"\n",
    "    noun_phrases = []\n",
    "    for doc in spacy_docs:\n",
    "        for np in doc.noun_chunks:\n",
    "            noun_phrases.append(np.text)\n",
    "    return FreqDist(noun_phrases)\n",
    "\n",
    "def retokenise_noun_phrases(spacy_docs):\n",
    "    \"\"\"\n",
    "    returns a list of documents that have had their \n",
    "    noun chunks merged based on the frequency of the noun\n",
    "    chunks across the whole corpus of documents\n",
    "    \"\"\"\n",
    "    noun_freqdist = get_noun_chunks_freqdist(spacy_docs)\n",
    "    for doc in spacy_docs:\n",
    "        with doc.retokenize() as retokenizer:\n",
    "            for chunk in doc.noun_chunks:\n",
    "                # if a phrase occurs more than 3 times retokenise\n",
    "                if(noun_freqdist[chunk.text] > 3):\n",
    "                    retokenizer.merge(chunk)\n",
    "    return spacy_docs\n",
    "\n",
    "def retokenise_entities(spacy_docs):\n",
    "    \"\"\"\n",
    "    returns a list of documents that have had their \n",
    "    entities merged\n",
    "    \"\"\"\n",
    "    for doc in spacy_docs:\n",
    "        with doc.retokenize() as retokenizer:\n",
    "            for ent in doc.ents:\n",
    "                retokenizer.merge(ent)\n",
    "    return spacy_docs\n",
    "\n",
    "def retokenise_lemmatise_corpus(category=default_category, report_vocab=False):\n",
    "    \"\"\"\n",
    "    for a given input category \n",
    "    \n",
    "    Parameters:\n",
    "        category: category to get a document corpus from\n",
    "        report_vocab: optionaly print out the vocab of preprocessing steps\n",
    "    \n",
    "    Comments:\n",
    "    - Yes I know I run the spacy tokeniser twice with make docs but \n",
    "    its negilgable performance for making the code cleaner\n",
    "    \"\"\"\n",
    "    docs = make_docs(category=category)\n",
    "    spacy_docs = list(nlp.pipe(docs))\n",
    "    retokenised = retokenise_noun_phrases(spacy_docs)\n",
    "    lemmatised_docs = spacy_lemmatise(retokenised)\n",
    "    if(report_vocab):\n",
    "        print(f\"Vocabulary of initial tokenised corpus: {vocab(docs)}\")\n",
    "        print(f\"Vocabulary of retokenised and lemmatised documents: {tokenised_vocab(lemmatised_docs)}\")\n",
    "    return lemmatised_docs\n",
    "    "
   ]
  },
  {
   "cell_type": "code",
   "execution_count": 193,
   "id": "770aea00",
   "metadata": {
    "ExecuteTime": {
     "end_time": "2022-04-28T03:41:02.734169Z",
     "start_time": "2022-04-28T03:39:10.716739Z"
    }
   },
   "outputs": [
    {
     "name": "stdout",
     "output_type": "stream",
     "text": [
      "Vocabulary of initial tokenised corpus: 21185\n",
      "Vocabulary of retokenised corpus: 21185\n",
      "Vocabulary of retokenised and lemmatised documents: 18050\n"
     ]
    }
   ],
   "source": [
    "retokenised_docs = retokenise_lemmatise_corpus(category=\"Sales\", report_vocab=True)"
   ]
  },
  {
   "cell_type": "markdown",
   "id": "d41f8974",
   "metadata": {},
   "source": [
    "## Remove stop words"
   ]
  },
  {
   "cell_type": "code",
   "execution_count": null,
   "id": "a4757fc6",
   "metadata": {
    "ExecuteTime": {
     "end_time": "2022-04-28T03:42:10.979276Z",
     "start_time": "2022-04-28T03:42:10.975957Z"
    }
   },
   "outputs": [],
   "source": [
    "def genism_bow(docs):\n",
    "    \"\"\"\n",
    "    return a bag of words and associated dictionary for an input collection of documents\n",
    "    \"\"\"\n",
    "    dictionary = Dictionary()\n",
    "    return [dictionary.doc2bow(doc, allow_update=True) for doc in docs], dictionary"
   ]
  },
  {
   "cell_type": "code",
   "execution_count": 197,
   "id": "13b71e67",
   "metadata": {
    "ExecuteTime": {
     "end_time": "2022-04-28T03:42:28.242752Z",
     "start_time": "2022-04-28T03:42:27.745817Z"
    }
   },
   "outputs": [],
   "source": [
    "bow, dic = genism_bow(retokenised_docs)"
   ]
  },
  {
   "cell_type": "code",
   "execution_count": 199,
   "id": "3ca8f655",
   "metadata": {
    "ExecuteTime": {
     "end_time": "2022-04-28T03:43:24.292755Z",
     "start_time": "2022-04-28T03:43:24.288963Z"
    }
   },
   "outputs": [
    {
     "data": {
      "text/plain": [
       "gensim.corpora.dictionary.Dictionary"
      ]
     },
     "execution_count": 199,
     "metadata": {},
     "output_type": "execute_result"
    }
   ],
   "source": [
    "type(dic)"
   ]
  },
  {
   "cell_type": "code",
   "execution_count": 207,
   "id": "a7cc7a7c",
   "metadata": {
    "ExecuteTime": {
     "end_time": "2022-04-28T06:44:00.550090Z",
     "start_time": "2022-04-28T06:44:00.541505Z"
    }
   },
   "outputs": [],
   "source": [
    "def tfidf_matrix(bow, dic):\n",
    "    \"\"\"\n",
    "    create the TF-IDF matrix for a bag of words\n",
    "    \n",
    "    Parameters:\n",
    "        bow (List[List[Tuple[Int, Int]]]): genism processed bag of word\n",
    "        dic (gensim.corpora.dictionary.Dictionary): dictionary for bow\n",
    "        \n",
    "    Returns:\n",
    "        a TF-IDF matrix and the genism tfidf model\n",
    "    \"\"\"\n",
    "    tfidf = TfidfModel(bow, smartirs='ntc')\n",
    "    vocab = [dic[i] for i in range(len(dic))]\n",
    "    index = list(range(len(bow)))\n",
    "    df = pd.DataFrame(data=np.zeros((len(bow), len(vocab)), dtype=np.float16), index=index, columns=vocab)\n",
    "    for idx in index:\n",
    "        for id, freq in tfidf[bow[idx]]:\n",
    "            df[dic[id]][idx] = freq\n",
    "    return df, tfidf\n",
    "\n",
    "def join_doc(doc):\n",
    "    \"\"\"return a single string of tokens for a given doc\"\"\"\n",
    "    return ' '.join(doc)\n",
    "\n",
    "def preprocess_descriptions(category=default_category, report_vocab=True):\n",
    "    \"\"\"\n",
    "    Perform initial preprocessing pipeline on the job descriptions for a given category\n",
    "    \n",
    "    Parameters:\n",
    "        category (str): category to perform processing on\n",
    "        report_vocab (boolean): optionally print the vocab of the resulting processed document collection\n",
    "        \n",
    "    Returns:\n",
    "        a list of strings where each string is a pre-processed job description\n",
    "    \"\"\"\n",
    "    docs = retokenise_lemmatise_corpus(category=category)\n",
    "    bow, dic = genism_bow(docs)\n",
    "    tf_df, tfidf = tfidf_matrix(bow, dic)\n",
    "    newdocs = []\n",
    "    for doc, tidf in zip(docs, tfidf[bow]):\n",
    "        newdoc = []\n",
    "        for (token, (num, val)) in zip(doc, tidf):\n",
    "            if val >= 0.05:\n",
    "                newdoc.append(token)\n",
    "        newdocs.append(newdoc)\n",
    "    if(report_vocab):\n",
    "        print(f\"Final vocab {tokenised_vocab(newdocs)}\")\n",
    "    return [join_doc(doc) for doc in newdocs], tf_df, tfidf"
   ]
  },
  {
   "cell_type": "code",
   "execution_count": 208,
   "id": "076172d7",
   "metadata": {
    "ExecuteTime": {
     "end_time": "2022-04-28T06:45:44.516872Z",
     "start_time": "2022-04-28T06:44:02.733516Z"
    }
   },
   "outputs": [
    {
     "name": "stdout",
     "output_type": "stream",
     "text": [
      "Final vocab 8497\n"
     ]
    }
   ],
   "source": [
    "preproc, fd_df, tfidf, bow = preprocess_descriptions(category=\"Sales\")"
   ]
  },
  {
   "cell_type": "code",
   "execution_count": 209,
   "id": "054a81b7",
   "metadata": {
    "ExecuteTime": {
     "end_time": "2022-04-28T06:45:45.602644Z",
     "start_time": "2022-04-28T06:45:45.589795Z"
    }
   },
   "outputs": [
    {
     "data": {
      "text/html": [
       "<div>\n",
       "<style scoped>\n",
       "    .dataframe tbody tr th:only-of-type {\n",
       "        vertical-align: middle;\n",
       "    }\n",
       "\n",
       "    .dataframe tbody tr th {\n",
       "        vertical-align: top;\n",
       "    }\n",
       "\n",
       "    .dataframe thead th {\n",
       "        text-align: right;\n",
       "    }\n",
       "</style>\n",
       "<table border=\"1\" class=\"dataframe\">\n",
       "  <thead>\n",
       "    <tr style=\"text-align: right;\">\n",
       "      <th></th>\n",
       "      <th></th>\n",
       "      <th>!</th>\n",
       "      <th>&amp;</th>\n",
       "      <th>'</th>\n",
       "      <th>'s</th>\n",
       "      <th>(</th>\n",
       "      <th>)</th>\n",
       "      <th>+</th>\n",
       "      <th>,</th>\n",
       "      <th>-</th>\n",
       "      <th>...</th>\n",
       "      <th>134</th>\n",
       "      <th>Alteryx</th>\n",
       "      <th>StarTrack</th>\n",
       "      <th>askrecruitment@startrack.com.au</th>\n",
       "      <th>disparate</th>\n",
       "      <th>etl</th>\n",
       "      <th>fluency</th>\n",
       "      <th>relatable</th>\n",
       "      <th>shared</th>\n",
       "      <th>sla</th>\n",
       "    </tr>\n",
       "  </thead>\n",
       "  <tbody>\n",
       "    <tr>\n",
       "      <th>0</th>\n",
       "      <td>0.001053</td>\n",
       "      <td>0.015732</td>\n",
       "      <td>0.060852</td>\n",
       "      <td>0.083069</td>\n",
       "      <td>0.045319</td>\n",
       "      <td>0.023758</td>\n",
       "      <td>0.023926</td>\n",
       "      <td>0.023422</td>\n",
       "      <td>0.010567</td>\n",
       "      <td>0.019058</td>\n",
       "      <td>...</td>\n",
       "      <td>0.000000</td>\n",
       "      <td>0.000000</td>\n",
       "      <td>0.000000</td>\n",
       "      <td>0.000000</td>\n",
       "      <td>0.000000</td>\n",
       "      <td>0.000000</td>\n",
       "      <td>0.000000</td>\n",
       "      <td>0.000000</td>\n",
       "      <td>0.000000</td>\n",
       "      <td>0.000000</td>\n",
       "    </tr>\n",
       "    <tr>\n",
       "      <th>1</th>\n",
       "      <td>0.001499</td>\n",
       "      <td>0.044830</td>\n",
       "      <td>0.034668</td>\n",
       "      <td>0.000000</td>\n",
       "      <td>0.000000</td>\n",
       "      <td>0.000000</td>\n",
       "      <td>0.000000</td>\n",
       "      <td>0.000000</td>\n",
       "      <td>0.009026</td>\n",
       "      <td>0.005432</td>\n",
       "      <td>...</td>\n",
       "      <td>0.000000</td>\n",
       "      <td>0.000000</td>\n",
       "      <td>0.000000</td>\n",
       "      <td>0.000000</td>\n",
       "      <td>0.000000</td>\n",
       "      <td>0.000000</td>\n",
       "      <td>0.000000</td>\n",
       "      <td>0.000000</td>\n",
       "      <td>0.000000</td>\n",
       "      <td>0.000000</td>\n",
       "    </tr>\n",
       "    <tr>\n",
       "      <th>2</th>\n",
       "      <td>0.008369</td>\n",
       "      <td>0.020844</td>\n",
       "      <td>0.016129</td>\n",
       "      <td>0.000000</td>\n",
       "      <td>0.040009</td>\n",
       "      <td>0.000000</td>\n",
       "      <td>0.000000</td>\n",
       "      <td>0.000000</td>\n",
       "      <td>0.006531</td>\n",
       "      <td>0.010101</td>\n",
       "      <td>...</td>\n",
       "      <td>0.000000</td>\n",
       "      <td>0.000000</td>\n",
       "      <td>0.000000</td>\n",
       "      <td>0.000000</td>\n",
       "      <td>0.000000</td>\n",
       "      <td>0.000000</td>\n",
       "      <td>0.000000</td>\n",
       "      <td>0.000000</td>\n",
       "      <td>0.000000</td>\n",
       "      <td>0.000000</td>\n",
       "    </tr>\n",
       "    <tr>\n",
       "      <th>3</th>\n",
       "      <td>0.008499</td>\n",
       "      <td>0.000000</td>\n",
       "      <td>0.000000</td>\n",
       "      <td>0.000000</td>\n",
       "      <td>0.000000</td>\n",
       "      <td>0.047943</td>\n",
       "      <td>0.036224</td>\n",
       "      <td>0.000000</td>\n",
       "      <td>0.004265</td>\n",
       "      <td>0.003849</td>\n",
       "      <td>...</td>\n",
       "      <td>0.000000</td>\n",
       "      <td>0.000000</td>\n",
       "      <td>0.000000</td>\n",
       "      <td>0.000000</td>\n",
       "      <td>0.000000</td>\n",
       "      <td>0.000000</td>\n",
       "      <td>0.000000</td>\n",
       "      <td>0.000000</td>\n",
       "      <td>0.000000</td>\n",
       "      <td>0.000000</td>\n",
       "    </tr>\n",
       "    <tr>\n",
       "      <th>4</th>\n",
       "      <td>0.027176</td>\n",
       "      <td>0.000000</td>\n",
       "      <td>0.036255</td>\n",
       "      <td>0.000000</td>\n",
       "      <td>0.000000</td>\n",
       "      <td>0.000000</td>\n",
       "      <td>0.000000</td>\n",
       "      <td>0.000000</td>\n",
       "      <td>0.004547</td>\n",
       "      <td>0.003786</td>\n",
       "      <td>...</td>\n",
       "      <td>0.000000</td>\n",
       "      <td>0.000000</td>\n",
       "      <td>0.000000</td>\n",
       "      <td>0.000000</td>\n",
       "      <td>0.000000</td>\n",
       "      <td>0.000000</td>\n",
       "      <td>0.000000</td>\n",
       "      <td>0.000000</td>\n",
       "      <td>0.000000</td>\n",
       "      <td>0.000000</td>\n",
       "    </tr>\n",
       "    <tr>\n",
       "      <th>...</th>\n",
       "      <td>...</td>\n",
       "      <td>...</td>\n",
       "      <td>...</td>\n",
       "      <td>...</td>\n",
       "      <td>...</td>\n",
       "      <td>...</td>\n",
       "      <td>...</td>\n",
       "      <td>...</td>\n",
       "      <td>...</td>\n",
       "      <td>...</td>\n",
       "      <td>...</td>\n",
       "      <td>...</td>\n",
       "      <td>...</td>\n",
       "      <td>...</td>\n",
       "      <td>...</td>\n",
       "      <td>...</td>\n",
       "      <td>...</td>\n",
       "      <td>...</td>\n",
       "      <td>...</td>\n",
       "      <td>...</td>\n",
       "      <td>...</td>\n",
       "    </tr>\n",
       "    <tr>\n",
       "      <th>1459</th>\n",
       "      <td>0.021103</td>\n",
       "      <td>0.000000</td>\n",
       "      <td>0.000000</td>\n",
       "      <td>0.000000</td>\n",
       "      <td>0.025238</td>\n",
       "      <td>0.000000</td>\n",
       "      <td>0.000000</td>\n",
       "      <td>0.000000</td>\n",
       "      <td>0.007061</td>\n",
       "      <td>0.025482</td>\n",
       "      <td>...</td>\n",
       "      <td>0.000000</td>\n",
       "      <td>0.000000</td>\n",
       "      <td>0.000000</td>\n",
       "      <td>0.000000</td>\n",
       "      <td>0.000000</td>\n",
       "      <td>0.000000</td>\n",
       "      <td>0.000000</td>\n",
       "      <td>0.000000</td>\n",
       "      <td>0.000000</td>\n",
       "      <td>0.000000</td>\n",
       "    </tr>\n",
       "    <tr>\n",
       "      <th>1460</th>\n",
       "      <td>0.001606</td>\n",
       "      <td>0.000000</td>\n",
       "      <td>0.000000</td>\n",
       "      <td>0.000000</td>\n",
       "      <td>0.000000</td>\n",
       "      <td>0.000000</td>\n",
       "      <td>0.000000</td>\n",
       "      <td>0.000000</td>\n",
       "      <td>0.006447</td>\n",
       "      <td>0.000000</td>\n",
       "      <td>...</td>\n",
       "      <td>0.000000</td>\n",
       "      <td>0.000000</td>\n",
       "      <td>0.000000</td>\n",
       "      <td>0.000000</td>\n",
       "      <td>0.000000</td>\n",
       "      <td>0.000000</td>\n",
       "      <td>0.000000</td>\n",
       "      <td>0.000000</td>\n",
       "      <td>0.000000</td>\n",
       "      <td>0.000000</td>\n",
       "    </tr>\n",
       "    <tr>\n",
       "      <th>1461</th>\n",
       "      <td>0.006355</td>\n",
       "      <td>0.018997</td>\n",
       "      <td>0.029388</td>\n",
       "      <td>0.000000</td>\n",
       "      <td>0.000000</td>\n",
       "      <td>0.000000</td>\n",
       "      <td>0.000000</td>\n",
       "      <td>0.000000</td>\n",
       "      <td>0.007225</td>\n",
       "      <td>0.013809</td>\n",
       "      <td>...</td>\n",
       "      <td>0.000000</td>\n",
       "      <td>0.000000</td>\n",
       "      <td>0.000000</td>\n",
       "      <td>0.000000</td>\n",
       "      <td>0.000000</td>\n",
       "      <td>0.000000</td>\n",
       "      <td>0.000000</td>\n",
       "      <td>0.000000</td>\n",
       "      <td>0.000000</td>\n",
       "      <td>0.000000</td>\n",
       "    </tr>\n",
       "    <tr>\n",
       "      <th>1462</th>\n",
       "      <td>0.002302</td>\n",
       "      <td>0.000000</td>\n",
       "      <td>0.000000</td>\n",
       "      <td>0.000000</td>\n",
       "      <td>0.000000</td>\n",
       "      <td>0.000000</td>\n",
       "      <td>0.000000</td>\n",
       "      <td>0.000000</td>\n",
       "      <td>0.003851</td>\n",
       "      <td>0.000000</td>\n",
       "      <td>...</td>\n",
       "      <td>0.000000</td>\n",
       "      <td>0.000000</td>\n",
       "      <td>0.000000</td>\n",
       "      <td>0.000000</td>\n",
       "      <td>0.000000</td>\n",
       "      <td>0.000000</td>\n",
       "      <td>0.000000</td>\n",
       "      <td>0.000000</td>\n",
       "      <td>0.000000</td>\n",
       "      <td>0.000000</td>\n",
       "    </tr>\n",
       "    <tr>\n",
       "      <th>1463</th>\n",
       "      <td>0.003687</td>\n",
       "      <td>0.000000</td>\n",
       "      <td>0.000000</td>\n",
       "      <td>0.000000</td>\n",
       "      <td>0.000000</td>\n",
       "      <td>0.000000</td>\n",
       "      <td>0.000000</td>\n",
       "      <td>0.000000</td>\n",
       "      <td>0.009048</td>\n",
       "      <td>0.000000</td>\n",
       "      <td>...</td>\n",
       "      <td>0.120483</td>\n",
       "      <td>0.120483</td>\n",
       "      <td>0.361328</td>\n",
       "      <td>0.120483</td>\n",
       "      <td>0.120483</td>\n",
       "      <td>0.120483</td>\n",
       "      <td>0.120483</td>\n",
       "      <td>0.120483</td>\n",
       "      <td>0.120483</td>\n",
       "      <td>0.120483</td>\n",
       "    </tr>\n",
       "  </tbody>\n",
       "</table>\n",
       "<p>1464 rows × 18050 columns</p>\n",
       "</div>"
      ],
      "text/plain": [
       "                       !         &         '        's         (         )  \\\n",
       "0     0.001053  0.015732  0.060852  0.083069  0.045319  0.023758  0.023926   \n",
       "1     0.001499  0.044830  0.034668  0.000000  0.000000  0.000000  0.000000   \n",
       "2     0.008369  0.020844  0.016129  0.000000  0.040009  0.000000  0.000000   \n",
       "3     0.008499  0.000000  0.000000  0.000000  0.000000  0.047943  0.036224   \n",
       "4     0.027176  0.000000  0.036255  0.000000  0.000000  0.000000  0.000000   \n",
       "...        ...       ...       ...       ...       ...       ...       ...   \n",
       "1459  0.021103  0.000000  0.000000  0.000000  0.025238  0.000000  0.000000   \n",
       "1460  0.001606  0.000000  0.000000  0.000000  0.000000  0.000000  0.000000   \n",
       "1461  0.006355  0.018997  0.029388  0.000000  0.000000  0.000000  0.000000   \n",
       "1462  0.002302  0.000000  0.000000  0.000000  0.000000  0.000000  0.000000   \n",
       "1463  0.003687  0.000000  0.000000  0.000000  0.000000  0.000000  0.000000   \n",
       "\n",
       "             +         ,         -  ...       134   Alteryx  StarTrack  \\\n",
       "0     0.023422  0.010567  0.019058  ...  0.000000  0.000000   0.000000   \n",
       "1     0.000000  0.009026  0.005432  ...  0.000000  0.000000   0.000000   \n",
       "2     0.000000  0.006531  0.010101  ...  0.000000  0.000000   0.000000   \n",
       "3     0.000000  0.004265  0.003849  ...  0.000000  0.000000   0.000000   \n",
       "4     0.000000  0.004547  0.003786  ...  0.000000  0.000000   0.000000   \n",
       "...        ...       ...       ...  ...       ...       ...        ...   \n",
       "1459  0.000000  0.007061  0.025482  ...  0.000000  0.000000   0.000000   \n",
       "1460  0.000000  0.006447  0.000000  ...  0.000000  0.000000   0.000000   \n",
       "1461  0.000000  0.007225  0.013809  ...  0.000000  0.000000   0.000000   \n",
       "1462  0.000000  0.003851  0.000000  ...  0.000000  0.000000   0.000000   \n",
       "1463  0.000000  0.009048  0.000000  ...  0.120483  0.120483   0.361328   \n",
       "\n",
       "      askrecruitment@startrack.com.au  disparate       etl   fluency  \\\n",
       "0                            0.000000   0.000000  0.000000  0.000000   \n",
       "1                            0.000000   0.000000  0.000000  0.000000   \n",
       "2                            0.000000   0.000000  0.000000  0.000000   \n",
       "3                            0.000000   0.000000  0.000000  0.000000   \n",
       "4                            0.000000   0.000000  0.000000  0.000000   \n",
       "...                               ...        ...       ...       ...   \n",
       "1459                         0.000000   0.000000  0.000000  0.000000   \n",
       "1460                         0.000000   0.000000  0.000000  0.000000   \n",
       "1461                         0.000000   0.000000  0.000000  0.000000   \n",
       "1462                         0.000000   0.000000  0.000000  0.000000   \n",
       "1463                         0.120483   0.120483  0.120483  0.120483   \n",
       "\n",
       "      relatable    shared       sla  \n",
       "0      0.000000  0.000000  0.000000  \n",
       "1      0.000000  0.000000  0.000000  \n",
       "2      0.000000  0.000000  0.000000  \n",
       "3      0.000000  0.000000  0.000000  \n",
       "4      0.000000  0.000000  0.000000  \n",
       "...         ...       ...       ...  \n",
       "1459   0.000000  0.000000  0.000000  \n",
       "1460   0.000000  0.000000  0.000000  \n",
       "1461   0.000000  0.000000  0.000000  \n",
       "1462   0.000000  0.000000  0.000000  \n",
       "1463   0.120483  0.120483  0.120483  \n",
       "\n",
       "[1464 rows x 18050 columns]"
      ]
     },
     "execution_count": 209,
     "metadata": {},
     "output_type": "execute_result"
    }
   ],
   "source": [
    "fd_df"
   ]
  },
  {
   "cell_type": "code",
   "execution_count": 272,
   "id": "90dd749b",
   "metadata": {
    "ExecuteTime": {
     "end_time": "2022-04-28T07:20:52.319128Z",
     "start_time": "2022-04-28T07:20:52.315159Z"
    }
   },
   "outputs": [],
   "source": [
    "def sort_cumulative(x):\n",
    "    \"\"\"\n",
    "    Sort a dictionary x = {k:v} by its value in reverse order\n",
    "    \"\"\"\n",
    "    return {k: v for k, v in sorted(x.items(), key=lambda item: item[1], reverse=True)}\n",
    "\n",
    "def get_cumulative_tfidf(docs):\n",
    "    \"\"\"\n",
    "    get the cumulative TFIDF score of a token across all documents in a collection\n",
    "    \"\"\"\n",
    "    cumulative_noun_tfidf = {}\n",
    "    cumulative_entity_tfidf = {}\n",
    "    spacy_docs = list(nlp.pipe(docs))\n",
    "    noun_retokenised = retokenise_noun_phrases(spacy_docs)\n",
    "    entity_retokensied = retokenise_entities(spacy_docs)\n",
    "    for ndoc, edoc, tidf in zip(noun_retokenised, entity_retokensied, tfidf[bow]):\n",
    "            noun_chunks = set([token.text for token in list(ndoc.noun_chunks)])\n",
    "            entities = set([token.text for token in list(edoc.ents)])\n",
    "            for (ntoken, etoken, (num, val)) in zip(ndoc, edoc, tidf):\n",
    "                if ntoken.text in noun_chunks:\n",
    "                    if ntoken.text not in cumulative_noun_tfidf:\n",
    "                        cumulative_noun_tfidf[ntoken] = val\n",
    "                    else:\n",
    "                        cumulative_noun_tfidf[ntoken] += val\n",
    "                if etoken.text in entities:\n",
    "                    if etoken  not in cumulative_entity_tfidf:\n",
    "                        cumulative_entity_tfidf[etoken] = val\n",
    "                    else:\n",
    "                        cumulative_entity_tfidf[etoken] += val\n",
    "    return sort_cumulative(cumulative_noun_tfidf), sort_cumulative(cumulative_entity_tfidf)"
   ]
  },
  {
   "cell_type": "markdown",
   "id": "3db7fd0a",
   "metadata": {},
   "source": [
    "## Generate Chatbot output"
   ]
  },
  {
   "cell_type": "code",
   "execution_count": 311,
   "id": "7527a5ba",
   "metadata": {
    "ExecuteTime": {
     "end_time": "2022-04-28T08:43:01.905243Z",
     "start_time": "2022-04-28T08:43:01.901031Z"
    }
   },
   "outputs": [],
   "source": [
    "def process_all_categories():\n",
    "    \"\"\"process all data in all categories\"\"\"\n",
    "    category_corpus = {}\n",
    "\n",
    "    for category in df[\"category\"].unique():  \n",
    "        preproc, fd_df, tfidf, bow = preprocess_descriptions(category=category, report_vocab=False)\n",
    "        noun_chunks, entities = get_cumulative_tfidf(preproc)\n",
    "        category_corpus[category] = {\n",
    "            \"preproc\": preproc,\n",
    "            \"fd_df\": fd_df,\n",
    "            \"tfidf\" : tfidf,\n",
    "            \"bow\" :bow,\n",
    "            \"noun_cunks\": noun_chunks,\n",
    "            \"entities\": entities\n",
    "        }\n",
    "    return category_corpus\n",
    "\n",
    "def dump_json_output():\n",
    "    \"\"\"dump the output json object\"\"\"\n",
    "    #job names, locations, company names, areas of experience\n",
    "    lists = [\"job_title\", \"city\", \"company_name\", \"job_type\"]\n",
    "    output = {\n",
    "        \"job_title\": {},\n",
    "        \"city\": {},\n",
    "        \"company_name\": {},\n",
    "        \"job_type\": {}\n",
    "    }\n",
    "    other = [\"experience\"]\n",
    "    for attribute in lists[1:2]:\n",
    "        for val in df[attribute].unique():\n",
    "            ndf = df[df[attribute] == val]\n",
    "            for category in category_corpus:\n",
    "                ne_chunks = list(category_corpus[str(category)][\"noun_cunks\"])[0:100]+list(category_corpus[str(category)][\"entities\"])[0:100]\n",
    "                output[attribute][val] = {\n",
    "                    \"category\": str(category),\n",
    "                     #get processed job description summary\n",
    "#                     \"description summary\": str(category_corpus[category][\"preproc\"]),\n",
    "                    # select top 100 entities and noun chunks to match against\n",
    "                    \"noun_entity_chunks\": str(ne_chunks)\n",
    "                }\n",
    "    with open(\"data.json\", \"w\") as outfile:\n",
    "        json.dump(output, outfile)"
   ]
  },
  {
   "cell_type": "code",
   "execution_count": null,
   "id": "ccf0b57d",
   "metadata": {
    "ExecuteTime": {
     "end_time": "2022-04-28T08:43:23.062676Z",
     "start_time": "2022-04-28T08:43:23.062667Z"
    }
   },
   "outputs": [],
   "source": [
    "dump_json_output()"
   ]
  },
  {
   "cell_type": "markdown",
   "id": "f6380ab6",
   "metadata": {},
   "source": [
    "# Linguistic Patterns"
   ]
  },
  {
   "cell_type": "code",
   "execution_count": 92,
   "id": "e7c3e1f1",
   "metadata": {
    "ExecuteTime": {
     "end_time": "2022-04-27T14:06:37.906799Z",
     "start_time": "2022-04-27T14:06:37.899022Z"
    }
   },
   "outputs": [],
   "source": [
    "def dis_render(docs, style='dep'):\n",
    "    \"displays a collection of documents with displacy\"\n",
    "    for doc in docs:\n",
    "            displacy.render(doc, style=style)\n",
    "             \n",
    "def check_starters(starters, entity, patterns, n=10, render=False):\n",
    "    \"\"\"\n",
    "    prints the matches for a given set of patterns on a generated set of inputs\n",
    "    \n",
    "    \"\"\"\n",
    "    examples = []\n",
    "    for starter in starters:\n",
    "        for attribute in df[entity].head(n).unique():\n",
    "            examples.append(starter.replace(\"SUB\", attribute).replace(\"&\", \"and\"))\n",
    "    docs = list(nlp.pipe(examples))\n",
    "    print(render)\n",
    "    return check_matches(docs, patterns, render=render)\n",
    "\n",
    "def check_examples(examples, patterns, render=False):\n",
    "    docs = list(nlp.pipe(examples))\n",
    "    return check_matches(docs, patterns, render=render)\n",
    "            \n",
    "def check_matches(docs, patterns, render=False):\n",
    "    if render:\n",
    "        dis_render(docs)\n",
    "    matcher = Matcher(nlp.vocab)\n",
    "    matcher.add(\"patterns\", patterns)\n",
    "    match_docs = [matcher(doc) for doc in docs]\n",
    "    for i, doc in enumerate(docs):\n",
    "        print(doc)\n",
    "        matches = match_docs[i]\n",
    "        for match_id, start, end in matches:\n",
    "            span = doc[start:end]\n",
    "            print(\"Span: \", span.text)\n",
    "        print()\n",
    "    return docs"
   ]
  },
  {
   "cell_type": "markdown",
   "id": "eca9672f",
   "metadata": {},
   "source": [
    "## Category and Job Name"
   ]
  },
  {
   "cell_type": "code",
   "execution_count": 96,
   "id": "3fde7ddf",
   "metadata": {
    "ExecuteTime": {
     "end_time": "2022-04-27T14:07:57.518241Z",
     "start_time": "2022-04-27T14:07:57.515077Z"
    }
   },
   "outputs": [],
   "source": [
    "category_starters = [\n",
    "    \"find me a job in SUB\",\n",
    "    \"get me a job in SUB\",\n",
    "    \"looking for a SUB job\",\n",
    "    \"anything in SUB\",\n",
    "    \"I am looking for a SUB job\",\n",
    "    \"I am looking for something in SUB\"\n",
    "]\n",
    "\n",
    "category_examples = [\n",
    "    \"I am looking for a job in Services in Brisbane\",\n",
    "    \"I am looking for an Accounting job \"\n",
    "]"
   ]
  },
  {
   "cell_type": "code",
   "execution_count": 117,
   "id": "75ae00e0",
   "metadata": {
    "ExecuteTime": {
     "end_time": "2022-04-27T14:13:24.531091Z",
     "start_time": "2022-04-27T14:13:24.525319Z"
    }
   },
   "outputs": [],
   "source": [
    "category_1 = [ \n",
    "        {\"LOWER\": \"job\"},\n",
    "        {\"DEP\": \"prep\"},\n",
    "        {\"DEP\": \"pobj\"},\n",
    "        {\"DEP\": \"cc\", \"OP\":\"?\"},\n",
    "        {\"DEP\": \"conj\", \"OP\":\"?\"}\n",
    "]\n",
    "category_2 = [\n",
    "        {\"LOWER\": \"job\"},\n",
    "        {\"DEP\": \"prep\"},\n",
    "        {\"POS\": \"PROPN\"},\n",
    "        {\"DEP\": \"cc\", \"OP\":\"?\"},\n",
    "        {\"DEP\": \"conj\", \"OP\":\"?\"},\n",
    "        {\"DEP\": \"pobj\", \"OP\":\"?\"},\n",
    "]\n",
    "category_3 = [\n",
    "    {\"POS\": \"ADP\"},\n",
    "    {\"DEP\": \"pobj\", \"POS\": \"PROPN\"},\n",
    "    {\"DEP\": \"cc\", \"OP\":\"?\"},\n",
    "    {\"DEP\": \"conj\", \"OP\":\"?\"},\n",
    "    {\"DEP\": \"pobj\", \"OP\":\"?\"},\n",
    "]\n",
    "\n",
    "category_example_1 = [\n",
    "    {\"DEP\": \"pobj\", \"POS\":\"NOUN\"},\n",
    "    {\"DEP\": \"prep\"},\n",
    "    {\"DEP\": \"pobj\", \"POS\": \"PROPN\"}\n",
    "]\n",
    "\n",
    "category_example_2 = [\n",
    "    {\"DEP\": \"det\"},\n",
    "    {\"DEP\": \"compound\"},\n",
    "    {\"POS\": \"NOUN\"}\n",
    "]"
   ]
  },
  {
   "cell_type": "code",
   "execution_count": 118,
   "id": "c954a587",
   "metadata": {
    "ExecuteTime": {
     "end_time": "2022-04-27T14:13:25.645062Z",
     "start_time": "2022-04-27T14:13:25.643016Z"
    }
   },
   "outputs": [],
   "source": [
    "# check_starters(category_starters, \"category\", [category_1, category_2, category_3], n=len(df))"
   ]
  },
  {
   "cell_type": "code",
   "execution_count": 120,
   "id": "d6d2df6f",
   "metadata": {
    "ExecuteTime": {
     "end_time": "2022-04-27T14:13:38.115080Z",
     "start_time": "2022-04-27T14:13:38.101671Z"
    }
   },
   "outputs": [
    {
     "name": "stdout",
     "output_type": "stream",
     "text": [
      "I am looking for a job in Services in Brisbane\n",
      "Span:  job in Services\n",
      "\n",
      "I am looking for an Accounting job \n",
      "Span:  an Accounting job\n",
      "\n"
     ]
    }
   ],
   "source": [
    "ds = check_examples(category_examples, [category_example_1, category_example_2])"
   ]
  },
  {
   "cell_type": "markdown",
   "id": "bca34008",
   "metadata": {},
   "source": [
    "## Location"
   ]
  },
  {
   "cell_type": "code",
   "execution_count": 140,
   "id": "deddac12",
   "metadata": {
    "ExecuteTime": {
     "end_time": "2022-04-27T14:26:09.775517Z",
     "start_time": "2022-04-27T14:26:09.760625Z"
    }
   },
   "outputs": [
    {
     "name": "stdout",
     "output_type": "stream",
     "text": [
      "Are there any Enginnering jobs available in Brisbane\n",
      "Span:  available in Brisbane\n",
      "\n",
      "What Retail assistant jobs are there in Perth\n",
      "Span:  are there in Perth\n",
      "\n"
     ]
    }
   ],
   "source": [
    "location_starters = [\n",
    "    \"looking for a job located in SUB\",\n",
    "    \"around the SUB area\",\n",
    "    \"around SUB\",\n",
    "    \"near SUB\"\n",
    "]\n",
    "\n",
    "location_1 = [\n",
    "    {\"DEP\": \"ROOT\"},\n",
    "    {\"DEP\": \"det\"},\n",
    "    {\"DEP\": \"nmod\"}\n",
    "]\n",
    "location_2 = [\n",
    "    {\"DEP\": \"ROOT\"},\n",
    "    {\"DEP\": \"pobj\"}\n",
    "]\n",
    "\n",
    "location_examples = [\n",
    "    \"Are there any Enginnering jobs available in Brisbane\",\n",
    "    \"What Retail assistant jobs are there in Perth\"\n",
    "]\n",
    "\n",
    "location_example_1 = [\n",
    "    {\"DEP\": \"amod\"},\n",
    "    {\"DEP\": \"prep\"},\n",
    "    {\"ENT_TYPE\": \"GPE\"}\n",
    "    \n",
    "]\n",
    "\n",
    "location_example_2 = [\n",
    "    {\"POS\": \"AUX\"},\n",
    "    {\"DEP\": \"advmod\"},\n",
    "    {\"DEP\": \"prep\"},\n",
    "    {\"DEP\": \"pobj\"}\n",
    "]\n",
    "ds = check_examples(location_examples, [location_example_1, location_example_2])"
   ]
  },
  {
   "cell_type": "markdown",
   "id": "8865adf0",
   "metadata": {},
   "source": [
    "## Company Name"
   ]
  },
  {
   "cell_type": "code",
   "execution_count": 147,
   "id": "3b1e57ff",
   "metadata": {
    "ExecuteTime": {
     "end_time": "2022-04-27T14:33:12.204915Z",
     "start_time": "2022-04-27T14:33:12.190106Z"
    }
   },
   "outputs": [
    {
     "name": "stdout",
     "output_type": "stream",
     "text": [
      "Is Microsoft currently hiring Software Engineers in Melbourne\n",
      "Span:  Is Microsoft\n",
      "\n",
      "I would like an Insurance job preferably with HBF\n",
      "Span:  with HBF\n",
      "\n"
     ]
    }
   ],
   "source": [
    "company_starters = [\n",
    "    \"I would like to work for SUB\",\n",
    "    \"Ideally I would work for SUB\",\n",
    "    \"I want to work at SUB\",\n",
    "    \"My dream job would be at SUB\"\n",
    "]\n",
    "\n",
    "company_examples = [\n",
    "    \"Is Microsoft currently hiring Software Engineers in Melbourne\",\n",
    "    \"I would like an Insurance job preferably with HBF\"\n",
    "]\n",
    "\n",
    "company_example_1 = [\n",
    "    {\"DEP\": \"aux\"},\n",
    "    {\"DEP\": \"nsubj\", \"ENT_TYPE\": \"ORG\"},\n",
    "]\n",
    "\n",
    "company_example_2 = [\n",
    "    {\"POS\": \"ADP\"},\n",
    "    {\"DEP\": \"pobj\", \"ENT_TYPE\": \"ORG\"},\n",
    "]\n",
    "ds = check_examples(company_examples, [company_example_1, company_example_2])"
   ]
  },
  {
   "cell_type": "code",
   "execution_count": 144,
   "id": "03520c22",
   "metadata": {
    "ExecuteTime": {
     "end_time": "2022-04-27T14:31:47.250744Z",
     "start_time": "2022-04-27T14:31:47.245409Z"
    }
   },
   "outputs": [
    {
     "data": {
      "text/html": [
       "<span class=\"tex2jax_ignore\"><div class=\"entities\" style=\"line-height: 2.5; direction: ltr\">Is \n",
       "<mark class=\"entity\" style=\"background: #7aecec; padding: 0.45em 0.6em; margin: 0 0.25em; line-height: 1; border-radius: 0.35em;\">\n",
       "    Microsoft\n",
       "    <span style=\"font-size: 0.8em; font-weight: bold; line-height: 1; border-radius: 0.35em; vertical-align: middle; margin-left: 0.5rem\">ORG</span>\n",
       "</mark>\n",
       " currently hiring \n",
       "<mark class=\"entity\" style=\"background: #7aecec; padding: 0.45em 0.6em; margin: 0 0.25em; line-height: 1; border-radius: 0.35em;\">\n",
       "    Software Engineers\n",
       "    <span style=\"font-size: 0.8em; font-weight: bold; line-height: 1; border-radius: 0.35em; vertical-align: middle; margin-left: 0.5rem\">ORG</span>\n",
       "</mark>\n",
       " in \n",
       "<mark class=\"entity\" style=\"background: #feca74; padding: 0.45em 0.6em; margin: 0 0.25em; line-height: 1; border-radius: 0.35em;\">\n",
       "    Melbourne\n",
       "    <span style=\"font-size: 0.8em; font-weight: bold; line-height: 1; border-radius: 0.35em; vertical-align: middle; margin-left: 0.5rem\">GPE</span>\n",
       "</mark>\n",
       "</div></span>"
      ],
      "text/plain": [
       "<IPython.core.display.HTML object>"
      ]
     },
     "metadata": {},
     "output_type": "display_data"
    },
    {
     "data": {
      "text/html": [
       "<span class=\"tex2jax_ignore\"><div class=\"entities\" style=\"line-height: 2.5; direction: ltr\">I would like an Insurance job preferably with \n",
       "<mark class=\"entity\" style=\"background: #7aecec; padding: 0.45em 0.6em; margin: 0 0.25em; line-height: 1; border-radius: 0.35em;\">\n",
       "    HBF\n",
       "    <span style=\"font-size: 0.8em; font-weight: bold; line-height: 1; border-radius: 0.35em; vertical-align: middle; margin-left: 0.5rem\">ORG</span>\n",
       "</mark>\n",
       "</div></span>"
      ],
      "text/plain": [
       "<IPython.core.display.HTML object>"
      ]
     },
     "metadata": {},
     "output_type": "display_data"
    }
   ],
   "source": [
    "dis_render(ds, style='ent')"
   ]
  },
  {
   "cell_type": "markdown",
   "id": "0a11ed76",
   "metadata": {},
   "source": [
    "## Job Type"
   ]
  },
  {
   "cell_type": "code",
   "execution_count": 161,
   "id": "23b453dd",
   "metadata": {
    "ExecuteTime": {
     "end_time": "2022-04-27T14:41:19.681815Z",
     "start_time": "2022-04-27T14:41:19.663103Z"
    }
   },
   "outputs": [
    {
     "name": "stdout",
     "output_type": "stream",
     "text": [
      "What jobs in Perth are there offer fulltime employment\n",
      "Span:  offer fulltime\n",
      "Span:  offer fulltime employment\n",
      "\n",
      "Can you find me a job that is part time, located in Adelaid and has a decent salary\n",
      "Span:  is part time\n",
      "Span:  part time\n",
      "\n"
     ]
    }
   ],
   "source": [
    "job_starters = [\n",
    "    \"I would be SUB\",\n",
    "    \"I want to work SUB\",\n",
    "]\n",
    "\n",
    "job_type_examples = [\n",
    "    \"What jobs in Perth are there offer fulltime employment\",\n",
    "    \"Can you find me a job that is part time, located in Adelaid and has a decent salary\"\n",
    "]\n",
    "job_type_example_1 = [\n",
    "    {\"POS\": \"VERB\"},\n",
    "    {\"DEP\": \"amod\"},\n",
    "    {\"DEP\": \"dobj\", \"OP\" : \"?\"}\n",
    "]\n",
    "\n",
    "job_type_example_2 = [\n",
    "    {\"POS\": \"AUX\", \"OP\": \"?\"},\n",
    "    {\"DEP\": \"compound\"},\n",
    "    {\"DEP\": \"attr\"},\n",
    "]\n",
    "ds = check_examples(job_type_examples, [job_type_example_1, job_type_example_2])"
   ]
  },
  {
   "cell_type": "markdown",
   "id": "62fb14d1",
   "metadata": {},
   "source": [
    "## Experience"
   ]
  },
  {
   "cell_type": "code",
   "execution_count": 178,
   "id": "6d1eb3ea",
   "metadata": {
    "ExecuteTime": {
     "end_time": "2022-04-28T02:26:44.825879Z",
     "start_time": "2022-04-28T02:26:44.805148Z"
    }
   },
   "outputs": [
    {
     "name": "stdout",
     "output_type": "stream",
     "text": [
      "I have little experience but is there anything in Government and defence that might fit\n",
      "Span:  little experience\n",
      "Span:  have little experience\n",
      "\n",
      "I am looking for a job as a very experienced tradesman\n",
      "Span:  very experienced tradesman\n",
      "Span:  experienced tradesman\n",
      "\n",
      "Are there any jobs with no experience requirements\n",
      "Span:  no experience\n",
      "\n"
     ]
    }
   ],
   "source": [
    "experience_examples = [\n",
    "    \"I have little experience but is there anything in Government and defence that might fit\",\n",
    "    \"I am looking for a job as a very experienced tradesman\",\n",
    "    \"Are there any jobs with no experience requirements\"\n",
    "]\n",
    "\n",
    "experience_example_1 = [\n",
    "    {\"POS\": \"VERB\"},\n",
    "    {\"DEP\": \"amod\", \"OP\": \"?\"},\n",
    "    {\"DEP\": \"dobj\"},\n",
    "]\n",
    "\n",
    "experience_example_2 = [\n",
    "    {\"POS\": \"ADV\", \"OP\": \"?\"},\n",
    "    {\"DEP\": \"advmod\", \"OP\": \"?\"},\n",
    "    {\"DEP\": \"amod\"},\n",
    "    {\"POS\": \"NOUN\"}\n",
    "]\n",
    "\n",
    "experience_example_3 = [\n",
    "    {\"DEP\": \"det\"},\n",
    "    {\"DEP\": \"compound\"}\n",
    "]\n",
    "ds = check_examples(experience_examples, [experience_example_1, experience_example_2, experience_example_3])"
   ]
  },
  {
   "cell_type": "markdown",
   "id": "2c0cc68c",
   "metadata": {},
   "source": [
    "# Additional Research"
   ]
  },
  {
   "cell_type": "markdown",
   "id": "60b9d70c",
   "metadata": {},
   "source": [
    "note please dont run the cells below as it will wreck the formatting"
   ]
  },
  {
   "cell_type": "markdown",
   "id": "dbe77cc3",
   "metadata": {},
   "source": [
    "Often users will struggle to provide all the information needed for an accurate response in one turn of dialog interation [1]. This can be due to a number of factors suchas not being able to remember everything or not knowing what information is required for the best quality response. One way to handle multi-turn dialog interactions is a Finite-state Machine (FSM). A FSM is an abststract model of computation whereby the machine can in exactly one of a finite number of states at any given time and transitions between them in response to some input [2]. In the context of a chatbot a state machine could be an encoding of entities which need to be extracted in order to return a result. For example consider the following simplified \n",
    "FSM for extracting a job description:\n",
    "\n",
    "\n",
    "   V------------------------ no                      \n",
    "input -> location in name                  v-------------------------no\n",
    "                          yes -> ask for job name -> job name found\n",
    "                                                                     yes -> extract job description and return to user\n",
    "           \n",
    "This type of FSM was investigated for this project (see the starters objects in the linguistic patterns section) whereby each relevant entity would need to be extracted before giving an anser. An alternative idea would be to encode expected dialog interactions as entity relations. Consider the following example used to train the Watson assistant [3]:\n",
    "\n",
    "entities = { \n",
    "\"user input\": \"response\"\n",
    "\"knock knock\": \"Who is there\"\n",
    "}\n",
    "user: knock knock\n",
    "     bot: who is there\n",
    "        user: answer <- extract answer to question here\n",
    " \n",
    "However having manual encodings for dialog interactions is infeasable or would require substantial processing to achieve. Alternatively dedicated models could be trained on large datasets to recognise multi-turn dialog (for example twitter threads or reddit posts). Baudart et. al. investigated this idea creating what they termed a \"Thread-Encoder\" neural network which addresses the problem of multi-turn response selection by encoding extracted dialog histories (examples of conversations) and training a matcher output the correct response for a given dialog history [4]. For the task of a job search chat bot, if sufficient user utterances and interactions could be recorded into a dataset a similar model could be trained and allow a chatbot to have better responses to job search queries. "
   ]
  },
  {
   "cell_type": "markdown",
   "id": "e141885a",
   "metadata": {},
   "source": [
    "### References"
   ]
  },
  {
   "cell_type": "markdown",
   "id": "25722878",
   "metadata": {
    "ExecuteTime": {
     "end_time": "2022-04-28T02:42:39.481983Z",
     "start_time": "2022-04-28T02:42:39.477509Z"
    }
   },
   "source": [
    "[1] Zamanirad, S., Benatallah, B., Rodriguez, C., Yaghoubzadehfard, M., Bouguelia, S., & Brabra, H. (2020, June). State machine based human-bot conversation model and services. In International Conference on Advanced Information Systems Engineering (pp. 199-214). Springer, Cham.\n",
    "\n",
    "[2] Sakarovitch, J. (2009). Elements of automata theory. Cambridge University Press.\n",
    "\n",
    "[3] Baudart, G., Hirzel, M., Mandel, L., Shinnar, A., & Siméon, J. (2018, November). Reactive chatbot programming. In Proceedings of the 5th ACM SIGPLAN International Workshop on Reactive and Event-Based Languages and Systems (pp. 21-30).\n",
    "\n",
    "[4] Jia, Q., Liu, Y., Ren, S., Zhu, K. Q., & Tang, H. (2020). Multi-turn response selection using dialogue dependency relations. arXiv preprint arXiv:2010.01502. \n",
    "\n"
   ]
  }
 ],
 "metadata": {
  "kernelspec": {
   "display_name": "Python 3 (ipykernel)",
   "language": "python",
   "name": "python3"
  },
  "language_info": {
   "codemirror_mode": {
    "name": "ipython",
    "version": 3
   },
   "file_extension": ".py",
   "mimetype": "text/x-python",
   "name": "python",
   "nbconvert_exporter": "python",
   "pygments_lexer": "ipython3",
   "version": "3.7.7"
  },
  "latex_envs": {
   "LaTeX_envs_menu_present": true,
   "autoclose": false,
   "autocomplete": true,
   "bibliofile": "biblio.bib",
   "cite_by": "apalike",
   "current_citInitial": 1,
   "eqLabelWithNumbers": true,
   "eqNumInitial": 1,
   "hotkeys": {
    "equation": "Ctrl-E",
    "itemize": "Ctrl-I"
   },
   "labels_anchors": false,
   "latex_user_defs": false,
   "report_style_numbering": false,
   "user_envs_cfg": false
  },
  "varInspector": {
   "cols": {
    "lenName": 16,
    "lenType": 16,
    "lenVar": 40
   },
   "kernels_config": {
    "python": {
     "delete_cmd_postfix": "",
     "delete_cmd_prefix": "del ",
     "library": "var_list.py",
     "varRefreshCmd": "print(var_dic_list())"
    },
    "r": {
     "delete_cmd_postfix": ") ",
     "delete_cmd_prefix": "rm(",
     "library": "var_list.r",
     "varRefreshCmd": "cat(var_dic_list()) "
    }
   },
   "types_to_exclude": [
    "module",
    "function",
    "builtin_function_or_method",
    "instance",
    "_Feature"
   ],
   "window_display": false
  }
 },
 "nbformat": 4,
 "nbformat_minor": 5
}
