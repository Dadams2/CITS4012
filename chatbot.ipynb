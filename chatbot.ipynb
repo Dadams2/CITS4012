{
 "cells": [
  {
   "cell_type": "code",
   "execution_count": 1,
   "id": "e50e96b6",
   "metadata": {
    "ExecuteTime": {
     "end_time": "2022-04-28T08:51:26.890009Z",
     "start_time": "2022-04-28T08:51:26.402902Z"
    }
   },
   "outputs": [],
   "source": [
    "import telegram\n",
    "import spacy\n",
    "from spacy.matcher import Matcher\n",
    "TOKEN = \"\"\n",
    "bot = telegram.Bot(token=TOKEN)"
   ]
  },
  {
   "cell_type": "code",
   "execution_count": 2,
   "id": "cf29478b",
   "metadata": {
    "ExecuteTime": {
     "end_time": "2022-04-28T07:53:11.565119Z",
     "start_time": "2022-04-28T07:53:11.194562Z"
    }
   },
   "outputs": [
    {
     "name": "stdout",
     "output_type": "stream",
     "text": [
      "{'username': 'Dadamsbot', 'can_join_groups': True, 'can_read_all_group_messages': False, 'id': 5256966131, 'is_bot': True, 'supports_inline_queries': False, 'first_name': 'Learning bot'}\n"
     ]
    }
   ],
   "source": [
    "print(bot.get_me())"
   ]
  },
  {
   "cell_type": "code",
   "execution_count": 3,
   "id": "dde8eb92",
   "metadata": {
    "ExecuteTime": {
     "end_time": "2022-04-28T07:46:00.321122Z",
     "start_time": "2022-04-28T07:45:32.830131Z"
    }
   },
   "outputs": [],
   "source": [
    "from telegram.ext import Updater, MessageHandler, Filters\n",
    "#function that implements the message handler\n",
    "def echo(update, context):\n",
    "    update.message.reply_text(update.message.text)\n",
    "#creating an Updater instance\n",
    "updater = Updater(TOKEN, use_context=True)\n",
    "#registering a handler to handle input text messages\n",
    "updater.dispatcher.add_handler(MessageHandler(Filters.text, echo))\n",
    "#starting polling updates from the messenger\n",
    "updater.start_polling()\n",
    "updater.idle()"
   ]
  },
  {
   "cell_type": "code",
   "execution_count": 2,
   "id": "361f7e86",
   "metadata": {
    "ExecuteTime": {
     "end_time": "2022-04-28T08:51:29.040253Z",
     "start_time": "2022-04-28T08:51:29.035318Z"
    }
   },
   "outputs": [],
   "source": [
    "category_example_1 = [\n",
    "    {\"DEP\": \"pobj\", \"POS\":\"NOUN\"},\n",
    "    {\"DEP\": \"prep\"},\n",
    "    {\"DEP\": \"pobj\", \"POS\": \"PROPN\"}\n",
    "]\n",
    "\n",
    "category_example_1 = [\n",
    "    {\"DEP\": \"pobj\", \"POS\":\"NOUN\"},\n",
    "    {\"DEP\": \"prep\"},\n",
    "    {\"DEP\": \"pobj\", \"POS\": \"PROPN\"}\n",
    "]\n",
    "category_example_2 = [\n",
    "    {\"DEP\": \"det\"},\n",
    "    {\"DEP\": \"compound\"},\n",
    "    {\"POS\": \"NOUN\"}\n",
    "]\n",
    "category = [category_example_1 , category_example_2]\n",
    "\n",
    "location_example_1 = [\n",
    "    {\"DEP\": \"amod\"},\n",
    "    {\"DEP\": \"prep\"},\n",
    "    {\"ENT_TYPE\": \"GPE\"}\n",
    "    \n",
    "]\n",
    "location_example_2 = [\n",
    "    {\"POS\": \"AUX\"},\n",
    "    {\"DEP\": \"advmod\"},\n",
    "    {\"DEP\": \"prep\"},\n",
    "    {\"DEP\": \"pobj\"}\n",
    "]\n",
    "location = [location_example_1 , location_example_2]\n",
    "\n",
    "company_example_1 = [\n",
    "    {\"DEP\": \"aux\"},\n",
    "    {\"DEP\": \"nsubj\", \"ENT_TYPE\": \"ORG\"},\n",
    "]\n",
    "company_example_2 = [\n",
    "    {\"POS\": \"ADP\"},\n",
    "    {\"DEP\": \"pobj\", \"ENT_TYPE\": \"ORG\"},\n",
    "]\n",
    "company = [company_example_1 , company_example_2]\n",
    "\n",
    "job_type_example_1 = [\n",
    "    {\"POS\": \"VERB\"},\n",
    "    {\"DEP\": \"amod\"},\n",
    "    {\"DEP\": \"dobj\", \"OP\" : \"?\"}\n",
    "]\n",
    "job_type_example_2 = [\n",
    "    {\"POS\": \"AUX\", \"OP\": \"?\"},\n",
    "    {\"DEP\": \"compound\"},\n",
    "    {\"DEP\": \"attr\"},\n",
    "]\n",
    "job_type = [job_type_example_1 , job_type_example_2]\n",
    "\n",
    "experience_example_1 = [\n",
    "    {\"POS\": \"VERB\"},\n",
    "    {\"DEP\": \"amod\", \"OP\": \"?\"},\n",
    "    {\"DEP\": \"dobj\"},\n",
    "]\n",
    "experience_example_2 = [\n",
    "    {\"POS\": \"ADV\", \"OP\": \"?\"},\n",
    "    {\"DEP\": \"advmod\", \"OP\": \"?\"},\n",
    "    {\"DEP\": \"amod\"},\n",
    "    {\"POS\": \"NOUN\"}\n",
    "]\n",
    "experience_example_3 = [\n",
    "    {\"DEP\": \"det\"},\n",
    "    {\"DEP\": \"compound\"}\n",
    "]\n",
    "experience = [experience_example_1 , experience_example_2, experience_example_3]\n",
    "\n",
    "matchers = {\n",
    "    \"category\": category,\n",
    "    \"location\": location,\n",
    "    \"company\": company,\n",
    "    \"job_type\": job_type,\n",
    "    \"experience\": experience\n",
    "}"
   ]
  },
  {
   "cell_type": "code",
   "execution_count": null,
   "id": "90af106a",
   "metadata": {
    "ExecuteTime": {
     "start_time": "2022-04-28T07:51:01.526Z"
    }
   },
   "outputs": [
    {
     "name": "stderr",
     "output_type": "stream",
     "text": [
      "No error handlers are registered, logging exception.\n",
      "Traceback (most recent call last):\n",
      "  File \"/home/dadams/.conda/envs/nlp2/lib/python3.7/site-packages/telegram/ext/dispatcher.py\", line 555, in process_update\n",
      "    handler.handle_update(update, self, check, context)\n",
      "  File \"/home/dadams/.conda/envs/nlp2/lib/python3.7/site-packages/telegram/ext/handler.py\", line 198, in handle_update\n",
      "    return self.callback(update, context)\n",
      "  File \"/tmp/ipykernel_3488832/3740840234.py\", line 11, in utterance\n",
      "    msg = update.message.text\n",
      "AttributeError: 'NoneType' object has no attribute 'text'\n"
     ]
    },
    {
     "name": "stdout",
     "output_type": "stream",
     "text": [
      "6905553075311563409\n",
      "Span:  Is Microsoft\n"
     ]
    }
   ],
   "source": [
    "import spacy\n",
    "from telegram.ext import Updater, MessageHandler, Filters\n",
    "\n",
    "nlp = spacy.load('en_core_web_sm')\n",
    "pattern_matchers = {}\n",
    "matcher = Matcher(nlp.vocab)\n",
    "\n",
    "for name, patterns in matchers.items():\n",
    "    matcher = Matcher(nlp.vocab)\n",
    "    matcher.add(name, patterns)\n",
    "    pattern_matchers[name] = matcher\n",
    "\n",
    "\n",
    "def utterance(update, context):\n",
    "    msg = update.message.text\n",
    "    doc = nlp(msg)\n",
    "    matches = matcher(doc)\n",
    "    for name, matcher in pattern_matchers.items():\n",
    "        matches = matcher(doc)\n",
    "        for match_id, start, end in matches:\n",
    "            if(name == \"category\"):\n",
    "                \n",
    "\n",
    "\n",
    "updater = Updater(TOKEN, use_context=True)\n",
    "updater.dispatcher.add_handler(MessageHandler(Filters.text, utterance))\n",
    "updater.start_polling()\n",
    "updater.idle()"
   ]
  },
  {
   "cell_type": "code",
   "execution_count": 10,
   "id": "627ddee6",
   "metadata": {
    "ExecuteTime": {
     "end_time": "2022-04-28T07:56:10.990143Z",
     "start_time": "2022-04-28T07:56:10.760786Z"
    }
   },
   "outputs": [
    {
     "name": "stdout",
     "output_type": "stream",
     "text": [
      "(6905553075311563409, 0, 2) company\n"
     ]
    }
   ],
   "source": [
    "nlp = spacy.load('en_core_web_sm')\n",
    "pattern_matchers = {}\n",
    "matcher = Matcher(nlp.vocab)\n",
    "\n",
    "for name, patterns in matchers.items():\n",
    "    matcher = Matcher(nlp.vocab)\n",
    "    matcher.add(name, patterns)\n",
    "    pattern_matchers[name] = matcher\n",
    "\n",
    "    \n",
    "doc = nlp(\"Is Microsoft currently hiring Software Engineers in Melbourne\")\n",
    "for name, matcher in pattern_matchers.items():\n",
    "    matches = matcher(doc)\n",
    "    for match in matches:\n",
    "        print(match, name)\n",
    "    "
   ]
  },
  {
   "cell_type": "code",
   "execution_count": 8,
   "id": "9be5b1b4",
   "metadata": {
    "ExecuteTime": {
     "end_time": "2022-04-28T07:55:39.133973Z",
     "start_time": "2022-04-28T07:55:39.131958Z"
    }
   },
   "outputs": [
    {
     "data": {
      "text/plain": [
       "[(6905553075311563409, 0, 2)]"
      ]
     },
     "execution_count": 8,
     "metadata": {},
     "output_type": "execute_result"
    }
   ],
   "source": [
    "matches"
   ]
  }
 ],
 "metadata": {
  "kernelspec": {
   "display_name": "Python 3 (ipykernel)",
   "language": "python",
   "name": "python3"
  },
  "language_info": {
   "codemirror_mode": {
    "name": "ipython",
    "version": 3
   },
   "file_extension": ".py",
   "mimetype": "text/x-python",
   "name": "python",
   "nbconvert_exporter": "python",
   "pygments_lexer": "ipython3",
   "version": "3.7.7"
  },
  "latex_envs": {
   "LaTeX_envs_menu_present": true,
   "autoclose": false,
   "autocomplete": true,
   "bibliofile": "biblio.bib",
   "cite_by": "apalike",
   "current_citInitial": 1,
   "eqLabelWithNumbers": true,
   "eqNumInitial": 1,
   "hotkeys": {
    "equation": "Ctrl-E",
    "itemize": "Ctrl-I"
   },
   "labels_anchors": false,
   "latex_user_defs": false,
   "report_style_numbering": false,
   "user_envs_cfg": false
  },
  "varInspector": {
   "cols": {
    "lenName": 16,
    "lenType": 16,
    "lenVar": 40
   },
   "kernels_config": {
    "python": {
     "delete_cmd_postfix": "",
     "delete_cmd_prefix": "del ",
     "library": "var_list.py",
     "varRefreshCmd": "print(var_dic_list())"
    },
    "r": {
     "delete_cmd_postfix": ") ",
     "delete_cmd_prefix": "rm(",
     "library": "var_list.r",
     "varRefreshCmd": "cat(var_dic_list()) "
    }
   },
   "types_to_exclude": [
    "module",
    "function",
    "builtin_function_or_method",
    "instance",
    "_Feature"
   ],
   "window_display": false
  }
 },
 "nbformat": 4,
 "nbformat_minor": 5
}
